{
 "cells": [
  {
   "cell_type": "code",
   "execution_count": 1,
   "id": "fdc331a8-2cb7-4eb2-aef2-516533f5f64a",
   "metadata": {},
   "outputs": [
    {
     "name": "stdout",
     "output_type": "stream",
     "text": [
      "The scikit-learn version is 0.24.2.\n"
     ]
    }
   ],
   "source": [
    "import warnings\n",
    "warnings.filterwarnings(\"ignore\")\n",
    "import pandas as pd\n",
    "import numpy as np\n",
    "\n",
    "from matplotlib import pyplot as plt\n",
    "\n",
    "plt.style.use('ggplot')\n",
    "\n",
    "import sklearn\n",
    "print('The scikit-learn version is {}.'.format(sklearn.__version__))\n",
    "\n",
    "import dask.dataframe as dd\n",
    "from dask.diagnostics import ProgressBar\n",
    "\n",
    "pbar = ProgressBar()                \n",
    "pbar.register() "
   ]
  },
  {
   "cell_type": "code",
   "execution_count": 2,
   "id": "0e8c56b2-e627-4e35-909a-a650ff83a072",
   "metadata": {},
   "outputs": [
    {
     "name": "stdout",
     "output_type": "stream",
     "text": [
      "[########################################] | 100% Completed |  0.5s\n"
     ]
    }
   ],
   "source": [
    "data_train = dd.read_csv('data_train.csv').drop(columns=['Unnamed: 0']).compute()"
   ]
  },
  {
   "cell_type": "code",
   "execution_count": 3,
   "id": "31f38746",
   "metadata": {},
   "outputs": [],
   "source": [
    "from datetime import datetime\n",
    "\n",
    "#data_train['buy_time'] = dd.to_datetime(data_train['buy_time'], unit='s')"
   ]
  },
  {
   "cell_type": "code",
   "execution_count": 4,
   "id": "b926a5be-97b8-4d14-8f02-d68f47e195fa",
   "metadata": {},
   "outputs": [],
   "source": [
    "data_train = data_train.sort_values(['id','buy_time']).reset_index().drop(columns=['index'])"
   ]
  },
  {
   "cell_type": "code",
   "execution_count": 19,
   "id": "9a81d255-defa-45b9-8eb2-16ab860725f8",
   "metadata": {},
   "outputs": [
    {
     "data": {
      "text/plain": [
       "(831653, 4)"
      ]
     },
     "execution_count": 19,
     "metadata": {},
     "output_type": "execute_result"
    }
   ],
   "source": [
    "data_train.shape"
   ]
  },
  {
   "cell_type": "code",
   "execution_count": 5,
   "id": "64378d1c",
   "metadata": {},
   "outputs": [
    {
     "data": {
      "text/html": [
       "<div>\n",
       "<style scoped>\n",
       "    .dataframe tbody tr th:only-of-type {\n",
       "        vertical-align: middle;\n",
       "    }\n",
       "\n",
       "    .dataframe tbody tr th {\n",
       "        vertical-align: top;\n",
       "    }\n",
       "\n",
       "    .dataframe thead th {\n",
       "        text-align: right;\n",
       "    }\n",
       "</style>\n",
       "<table border=\"1\" class=\"dataframe\">\n",
       "  <thead>\n",
       "    <tr style=\"text-align: right;\">\n",
       "      <th></th>\n",
       "      <th>id</th>\n",
       "      <th>vas_id</th>\n",
       "      <th>buy_time</th>\n",
       "      <th>target</th>\n",
       "    </tr>\n",
       "  </thead>\n",
       "  <tbody>\n",
       "    <tr>\n",
       "      <th>0</th>\n",
       "      <td>2</td>\n",
       "      <td>2.0</td>\n",
       "      <td>1545598800</td>\n",
       "      <td>0.0</td>\n",
       "    </tr>\n",
       "    <tr>\n",
       "      <th>1</th>\n",
       "      <td>4</td>\n",
       "      <td>1.0</td>\n",
       "      <td>1533502800</td>\n",
       "      <td>0.0</td>\n",
       "    </tr>\n",
       "    <tr>\n",
       "      <th>2</th>\n",
       "      <td>15</td>\n",
       "      <td>1.0</td>\n",
       "      <td>1534107600</td>\n",
       "      <td>0.0</td>\n",
       "    </tr>\n",
       "    <tr>\n",
       "      <th>3</th>\n",
       "      <td>16</td>\n",
       "      <td>2.0</td>\n",
       "      <td>1540760400</td>\n",
       "      <td>0.0</td>\n",
       "    </tr>\n",
       "    <tr>\n",
       "      <th>4</th>\n",
       "      <td>29</td>\n",
       "      <td>1.0</td>\n",
       "      <td>1533502800</td>\n",
       "      <td>0.0</td>\n",
       "    </tr>\n",
       "  </tbody>\n",
       "</table>\n",
       "</div>"
      ],
      "text/plain": [
       "   id  vas_id    buy_time  target\n",
       "0   2     2.0  1545598800     0.0\n",
       "1   4     1.0  1533502800     0.0\n",
       "2  15     1.0  1534107600     0.0\n",
       "3  16     2.0  1540760400     0.0\n",
       "4  29     1.0  1533502800     0.0"
      ]
     },
     "execution_count": 5,
     "metadata": {},
     "output_type": "execute_result"
    }
   ],
   "source": [
    "data_train.head()"
   ]
  },
  {
   "cell_type": "code",
   "execution_count": 6,
   "id": "e02f997b",
   "metadata": {},
   "outputs": [
    {
     "name": "stdout",
     "output_type": "stream",
     "text": [
      "[########################################] | 100% Completed |  2min 15.3s\n"
     ]
    }
   ],
   "source": [
    "df = dd.read_csv('features.csv', delimiter=\"\\t\").drop(columns=['Unnamed: 0']).compute()"
   ]
  },
  {
   "cell_type": "code",
   "execution_count": 7,
   "id": "2fe42195",
   "metadata": {},
   "outputs": [],
   "source": [
    "#df['buy_time'] = dd.to_datetime(df['buy_time'], unit='s')"
   ]
  },
  {
   "cell_type": "code",
   "execution_count": 8,
   "id": "b6fde53f-2775-4c7c-9b94-4ea8a31ce978",
   "metadata": {},
   "outputs": [],
   "source": [
    "df = df.sort_values(['id','buy_time']).reset_index().drop(columns=['index'])"
   ]
  },
  {
   "cell_type": "code",
   "execution_count": 9,
   "id": "7e7daad5-1fa9-4382-b0aa-781702876203",
   "metadata": {},
   "outputs": [
    {
     "data": {
      "text/html": [
       "<div>\n",
       "<style scoped>\n",
       "    .dataframe tbody tr th:only-of-type {\n",
       "        vertical-align: middle;\n",
       "    }\n",
       "\n",
       "    .dataframe tbody tr th {\n",
       "        vertical-align: top;\n",
       "    }\n",
       "\n",
       "    .dataframe thead th {\n",
       "        text-align: right;\n",
       "    }\n",
       "</style>\n",
       "<table border=\"1\" class=\"dataframe\">\n",
       "  <thead>\n",
       "    <tr style=\"text-align: right;\">\n",
       "      <th></th>\n",
       "      <th>id</th>\n",
       "      <th>buy_time</th>\n",
       "      <th>0</th>\n",
       "      <th>1</th>\n",
       "      <th>2</th>\n",
       "      <th>3</th>\n",
       "      <th>4</th>\n",
       "      <th>5</th>\n",
       "      <th>6</th>\n",
       "      <th>7</th>\n",
       "      <th>...</th>\n",
       "      <th>243</th>\n",
       "      <th>244</th>\n",
       "      <th>245</th>\n",
       "      <th>246</th>\n",
       "      <th>247</th>\n",
       "      <th>248</th>\n",
       "      <th>249</th>\n",
       "      <th>250</th>\n",
       "      <th>251</th>\n",
       "      <th>252</th>\n",
       "    </tr>\n",
       "  </thead>\n",
       "  <tbody>\n",
       "    <tr>\n",
       "      <th>0</th>\n",
       "      <td>0</td>\n",
       "      <td>1539550800</td>\n",
       "      <td>-87.479971</td>\n",
       "      <td>-258.499112</td>\n",
       "      <td>-93.790786</td>\n",
       "      <td>-192.486798</td>\n",
       "      <td>-99.208246</td>\n",
       "      <td>-213.59179</td>\n",
       "      <td>-16.08618</td>\n",
       "      <td>-65.076097</td>\n",
       "      <td>...</td>\n",
       "      <td>-977.373846</td>\n",
       "      <td>-613.770792</td>\n",
       "      <td>-25.996269</td>\n",
       "      <td>-37.630448</td>\n",
       "      <td>-306.747724</td>\n",
       "      <td>-25.832889</td>\n",
       "      <td>-0.694428</td>\n",
       "      <td>-12.175933</td>\n",
       "      <td>-0.45614</td>\n",
       "      <td>0.0</td>\n",
       "    </tr>\n",
       "    <tr>\n",
       "      <th>1</th>\n",
       "      <td>1</td>\n",
       "      <td>1546808400</td>\n",
       "      <td>-95.299971</td>\n",
       "      <td>-47.949112</td>\n",
       "      <td>-55.070786</td>\n",
       "      <td>-42.146798</td>\n",
       "      <td>-60.488246</td>\n",
       "      <td>-63.25179</td>\n",
       "      <td>-16.08618</td>\n",
       "      <td>-65.076097</td>\n",
       "      <td>...</td>\n",
       "      <td>-952.373846</td>\n",
       "      <td>-611.770792</td>\n",
       "      <td>-25.996269</td>\n",
       "      <td>-17.630448</td>\n",
       "      <td>-250.747724</td>\n",
       "      <td>-17.832889</td>\n",
       "      <td>-0.694428</td>\n",
       "      <td>-12.175933</td>\n",
       "      <td>-0.45614</td>\n",
       "      <td>0.0</td>\n",
       "    </tr>\n",
       "  </tbody>\n",
       "</table>\n",
       "<p>2 rows × 255 columns</p>\n",
       "</div>"
      ],
      "text/plain": [
       "   id    buy_time          0           1          2           3          4  \\\n",
       "0   0  1539550800 -87.479971 -258.499112 -93.790786 -192.486798 -99.208246   \n",
       "1   1  1546808400 -95.299971  -47.949112 -55.070786  -42.146798 -60.488246   \n",
       "\n",
       "           5         6          7  ...         243         244        245  \\\n",
       "0 -213.59179 -16.08618 -65.076097  ... -977.373846 -613.770792 -25.996269   \n",
       "1  -63.25179 -16.08618 -65.076097  ... -952.373846 -611.770792 -25.996269   \n",
       "\n",
       "         246         247        248       249        250      251  252  \n",
       "0 -37.630448 -306.747724 -25.832889 -0.694428 -12.175933 -0.45614  0.0  \n",
       "1 -17.630448 -250.747724 -17.832889 -0.694428 -12.175933 -0.45614  0.0  \n",
       "\n",
       "[2 rows x 255 columns]"
      ]
     },
     "execution_count": 9,
     "metadata": {},
     "output_type": "execute_result"
    }
   ],
   "source": [
    "df.head(2)"
   ]
  },
  {
   "cell_type": "code",
   "execution_count": 10,
   "id": "7e196272-0567-415a-baff-629dcac72d42",
   "metadata": {},
   "outputs": [],
   "source": [
    "data = data_train.join(df, on=\"id\", rsuffix='_other')"
   ]
  },
  {
   "cell_type": "code",
   "execution_count": 11,
   "id": "823fa1fb",
   "metadata": {},
   "outputs": [
    {
     "data": {
      "text/html": [
       "<div>\n",
       "<style scoped>\n",
       "    .dataframe tbody tr th:only-of-type {\n",
       "        vertical-align: middle;\n",
       "    }\n",
       "\n",
       "    .dataframe tbody tr th {\n",
       "        vertical-align: top;\n",
       "    }\n",
       "\n",
       "    .dataframe thead th {\n",
       "        text-align: right;\n",
       "    }\n",
       "</style>\n",
       "<table border=\"1\" class=\"dataframe\">\n",
       "  <thead>\n",
       "    <tr style=\"text-align: right;\">\n",
       "      <th></th>\n",
       "      <th>id</th>\n",
       "      <th>vas_id</th>\n",
       "      <th>buy_time</th>\n",
       "      <th>target</th>\n",
       "      <th>id_other</th>\n",
       "      <th>buy_time_other</th>\n",
       "      <th>0</th>\n",
       "      <th>1</th>\n",
       "      <th>2</th>\n",
       "      <th>3</th>\n",
       "      <th>...</th>\n",
       "      <th>243</th>\n",
       "      <th>244</th>\n",
       "      <th>245</th>\n",
       "      <th>246</th>\n",
       "      <th>247</th>\n",
       "      <th>248</th>\n",
       "      <th>249</th>\n",
       "      <th>250</th>\n",
       "      <th>251</th>\n",
       "      <th>252</th>\n",
       "    </tr>\n",
       "  </thead>\n",
       "  <tbody>\n",
       "    <tr>\n",
       "      <th>0</th>\n",
       "      <td>2</td>\n",
       "      <td>2.0</td>\n",
       "      <td>1545598800</td>\n",
       "      <td>0.0</td>\n",
       "      <td>2</td>\n",
       "      <td>1545598800</td>\n",
       "      <td>-96.799971</td>\n",
       "      <td>229.530888</td>\n",
       "      <td>-110.740786</td>\n",
       "      <td>305.723202</td>\n",
       "      <td>...</td>\n",
       "      <td>2300.626154</td>\n",
       "      <td>1492.229208</td>\n",
       "      <td>-21.996269</td>\n",
       "      <td>-35.630448</td>\n",
       "      <td>368.252276</td>\n",
       "      <td>11.167111</td>\n",
       "      <td>7.305572</td>\n",
       "      <td>-12.175933</td>\n",
       "      <td>-0.45614</td>\n",
       "      <td>0.0</td>\n",
       "    </tr>\n",
       "    <tr>\n",
       "      <th>1</th>\n",
       "      <td>4</td>\n",
       "      <td>1.0</td>\n",
       "      <td>1533502800</td>\n",
       "      <td>0.0</td>\n",
       "      <td>4</td>\n",
       "      <td>1538341200</td>\n",
       "      <td>-96.799971</td>\n",
       "      <td>-323.429112</td>\n",
       "      <td>-110.740786</td>\n",
       "      <td>-376.036798</td>\n",
       "      <td>...</td>\n",
       "      <td>4806.626154</td>\n",
       "      <td>4140.229208</td>\n",
       "      <td>-25.996269</td>\n",
       "      <td>-37.630448</td>\n",
       "      <td>-35.747724</td>\n",
       "      <td>-20.832889</td>\n",
       "      <td>-0.694428</td>\n",
       "      <td>-7.175933</td>\n",
       "      <td>-0.45614</td>\n",
       "      <td>0.0</td>\n",
       "    </tr>\n",
       "  </tbody>\n",
       "</table>\n",
       "<p>2 rows × 259 columns</p>\n",
       "</div>"
      ],
      "text/plain": [
       "   id  vas_id    buy_time  target  id_other  buy_time_other          0  \\\n",
       "0   2     2.0  1545598800     0.0         2      1545598800 -96.799971   \n",
       "1   4     1.0  1533502800     0.0         4      1538341200 -96.799971   \n",
       "\n",
       "            1           2           3  ...          243          244  \\\n",
       "0  229.530888 -110.740786  305.723202  ...  2300.626154  1492.229208   \n",
       "1 -323.429112 -110.740786 -376.036798  ...  4806.626154  4140.229208   \n",
       "\n",
       "         245        246         247        248       249        250      251  \\\n",
       "0 -21.996269 -35.630448  368.252276  11.167111  7.305572 -12.175933 -0.45614   \n",
       "1 -25.996269 -37.630448  -35.747724 -20.832889 -0.694428  -7.175933 -0.45614   \n",
       "\n",
       "   252  \n",
       "0  0.0  \n",
       "1  0.0  \n",
       "\n",
       "[2 rows x 259 columns]"
      ]
     },
     "execution_count": 11,
     "metadata": {},
     "output_type": "execute_result"
    }
   ],
   "source": [
    "data.head(2)"
   ]
  },
  {
   "cell_type": "code",
   "execution_count": 12,
   "id": "74563495",
   "metadata": {},
   "outputs": [],
   "source": [
    "data.to_csv('data_train_with_features.csv')\n"
   ]
  },
  {
   "cell_type": "code",
   "execution_count": 13,
   "id": "0270edbf",
   "metadata": {},
   "outputs": [
    {
     "name": "stdout",
     "output_type": "stream",
     "text": [
      "[########################################] | 100% Completed |  0.3s\n"
     ]
    }
   ],
   "source": [
    "data_test = dd.read_csv('data_test.csv').drop(columns=['Unnamed: 0']).compute()"
   ]
  },
  {
   "cell_type": "code",
   "execution_count": 14,
   "id": "192630e8-39e7-4b0a-be35-6e46af7e2586",
   "metadata": {},
   "outputs": [],
   "source": [
    "#data_test['buy_time'] = dd.to_datetime(data_test['buy_time'], unit='s')"
   ]
  },
  {
   "cell_type": "code",
   "execution_count": 15,
   "id": "1ab01b81",
   "metadata": {},
   "outputs": [],
   "source": [
    "data_test = data_test.sort_values(['id','buy_time']).reset_index().drop(columns=['index'])"
   ]
  },
  {
   "cell_type": "code",
   "execution_count": 16,
   "id": "85cce099",
   "metadata": {},
   "outputs": [
    {
     "data": {
      "text/html": [
       "<div>\n",
       "<style scoped>\n",
       "    .dataframe tbody tr th:only-of-type {\n",
       "        vertical-align: middle;\n",
       "    }\n",
       "\n",
       "    .dataframe tbody tr th {\n",
       "        vertical-align: top;\n",
       "    }\n",
       "\n",
       "    .dataframe thead th {\n",
       "        text-align: right;\n",
       "    }\n",
       "</style>\n",
       "<table border=\"1\" class=\"dataframe\">\n",
       "  <thead>\n",
       "    <tr style=\"text-align: right;\">\n",
       "      <th></th>\n",
       "      <th>id</th>\n",
       "      <th>vas_id</th>\n",
       "      <th>buy_time</th>\n",
       "    </tr>\n",
       "  </thead>\n",
       "  <tbody>\n",
       "    <tr>\n",
       "      <th>0</th>\n",
       "      <td>55</td>\n",
       "      <td>2.0</td>\n",
       "      <td>1547413200</td>\n",
       "    </tr>\n",
       "    <tr>\n",
       "      <th>1</th>\n",
       "      <td>64</td>\n",
       "      <td>4.0</td>\n",
       "      <td>1548018000</td>\n",
       "    </tr>\n",
       "    <tr>\n",
       "      <th>2</th>\n",
       "      <td>151</td>\n",
       "      <td>2.0</td>\n",
       "      <td>1547413200</td>\n",
       "    </tr>\n",
       "    <tr>\n",
       "      <th>3</th>\n",
       "      <td>274</td>\n",
       "      <td>2.0</td>\n",
       "      <td>1547413200</td>\n",
       "    </tr>\n",
       "    <tr>\n",
       "      <th>4</th>\n",
       "      <td>274</td>\n",
       "      <td>4.0</td>\n",
       "      <td>1548018000</td>\n",
       "    </tr>\n",
       "  </tbody>\n",
       "</table>\n",
       "</div>"
      ],
      "text/plain": [
       "    id  vas_id    buy_time\n",
       "0   55     2.0  1547413200\n",
       "1   64     4.0  1548018000\n",
       "2  151     2.0  1547413200\n",
       "3  274     2.0  1547413200\n",
       "4  274     4.0  1548018000"
      ]
     },
     "execution_count": 16,
     "metadata": {},
     "output_type": "execute_result"
    }
   ],
   "source": [
    "data_test.head()"
   ]
  },
  {
   "cell_type": "code",
   "execution_count": 17,
   "id": "20ed39dd",
   "metadata": {},
   "outputs": [],
   "source": [
    "data = data_test.join(df, on=\"id\", rsuffix='_other')"
   ]
  },
  {
   "cell_type": "code",
   "execution_count": 18,
   "id": "afcac78e",
   "metadata": {},
   "outputs": [],
   "source": [
    "data.to_csv('data_test_with_features.csv')"
   ]
  },
  {
   "cell_type": "code",
   "execution_count": null,
   "id": "a918e8ce",
   "metadata": {},
   "outputs": [],
   "source": []
  }
 ],
 "metadata": {
  "kernelspec": {
   "display_name": "Python 3 (ipykernel)",
   "language": "python",
   "name": "python3"
  },
  "language_info": {
   "codemirror_mode": {
    "name": "ipython",
    "version": 3
   },
   "file_extension": ".py",
   "mimetype": "text/x-python",
   "name": "python",
   "nbconvert_exporter": "python",
   "pygments_lexer": "ipython3",
   "version": "3.9.7"
  }
 },
 "nbformat": 4,
 "nbformat_minor": 5
}
