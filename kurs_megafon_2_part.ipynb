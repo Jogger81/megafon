{
  "cells": [
    {
      "cell_type": "code",
      "execution_count": 2,
      "metadata": {
        "colab": {
          "base_uri": "https://localhost:8080/"
        },
        "id": "TX8gUG4eHJLo",
        "outputId": "e2407456-4b1f-4b3e-8433-b709b2c15791"
      },
      "outputs": [
        {
          "output_type": "stream",
          "name": "stdout",
          "text": [
            "Drive already mounted at /content/drive; to attempt to forcibly remount, call drive.mount(\"/content/drive\", force_remount=True).\n"
          ]
        }
      ],
      "source": [
        "%matplotlib inline\n",
        "from google.colab import drive\n",
        "drive.mount('/content/drive')"
      ]
    },
    {
      "cell_type": "markdown",
      "metadata": {
        "id": "vEqlMPzjHJL-"
      },
      "source": [
        "# 1 Baseline"
      ]
    },
    {
      "cell_type": "markdown",
      "metadata": {
        "id": "Yb1w7gUWHJMA"
      },
      "source": [
        "Считываем данные, строим baseline модель и рассматриваем разные метрики и графики для задачи классификации."
      ]
    },
    {
      "cell_type": "code",
      "execution_count": 3,
      "metadata": {
        "id": "5mqY72dwHJMD"
      },
      "outputs": [],
      "source": [
        "import warnings\n",
        "warnings.filterwarnings(\"ignore\")"
      ]
    },
    {
      "cell_type": "code",
      "execution_count": 4,
      "metadata": {
        "colab": {
          "base_uri": "https://localhost:8080/"
        },
        "id": "ht5nyN_hHJME",
        "outputId": "fbe418d5-91f4-41c7-da74-4ea0b72707cb"
      },
      "outputs": [
        {
          "output_type": "stream",
          "name": "stdout",
          "text": [
            "The scikit-learn version is 1.0.2.\n"
          ]
        }
      ],
      "source": [
        "import pandas as pd\n",
        "import numpy as np\n",
        "\n",
        "from matplotlib import pyplot as plt\n",
        "\n",
        "plt.style.use('ggplot')\n",
        "\n",
        "import sklearn\n",
        "print('The scikit-learn version is {}.'.format(sklearn.__version__))"
      ]
    },
    {
      "cell_type": "markdown",
      "metadata": {
        "id": "brPuEocVHJMI"
      },
      "source": [
        "### 1.1 Данные"
      ]
    },
    {
      "cell_type": "code",
      "execution_count": 5,
      "metadata": {
        "colab": {
          "base_uri": "https://localhost:8080/"
        },
        "id": "3Re4AzZWHJMJ",
        "outputId": "2bf3847b-db96-4bc9-dfe1-6c3e0823c122"
      },
      "outputs": [
        {
          "output_type": "execute_result",
          "data": {
            "text/plain": [
              "(831653, 260)"
            ]
          },
          "metadata": {},
          "execution_count": 5
        }
      ],
      "source": [
        "data_train = pd.read_csv('/content/drive/MyDrive/data_train_with_features.csv')\n",
        "data_train.shape"
      ]
    },
    {
      "cell_type": "code",
      "execution_count": 6,
      "metadata": {
        "colab": {
          "base_uri": "https://localhost:8080/",
          "height": 314
        },
        "id": "espxm2-DHJMM",
        "outputId": "28b2e8f6-d35a-4125-9d31-3744df9895b2"
      },
      "outputs": [
        {
          "output_type": "execute_result",
          "data": {
            "text/html": [
              "\n",
              "  <div id=\"df-21cb031f-e525-49ea-9c7f-9609e1b7c4c1\">\n",
              "    <div class=\"colab-df-container\">\n",
              "      <div>\n",
              "<style scoped>\n",
              "    .dataframe tbody tr th:only-of-type {\n",
              "        vertical-align: middle;\n",
              "    }\n",
              "\n",
              "    .dataframe tbody tr th {\n",
              "        vertical-align: top;\n",
              "    }\n",
              "\n",
              "    .dataframe thead th {\n",
              "        text-align: right;\n",
              "    }\n",
              "</style>\n",
              "<table border=\"1\" class=\"dataframe\">\n",
              "  <thead>\n",
              "    <tr style=\"text-align: right;\">\n",
              "      <th></th>\n",
              "      <th>Unnamed: 0</th>\n",
              "      <th>id</th>\n",
              "      <th>vas_id</th>\n",
              "      <th>buy_time</th>\n",
              "      <th>target</th>\n",
              "      <th>id_other</th>\n",
              "      <th>buy_time_other</th>\n",
              "      <th>0</th>\n",
              "      <th>1</th>\n",
              "      <th>2</th>\n",
              "      <th>3</th>\n",
              "      <th>4</th>\n",
              "      <th>5</th>\n",
              "      <th>6</th>\n",
              "      <th>7</th>\n",
              "      <th>8</th>\n",
              "      <th>9</th>\n",
              "      <th>10</th>\n",
              "      <th>11</th>\n",
              "      <th>12</th>\n",
              "      <th>13</th>\n",
              "      <th>14</th>\n",
              "      <th>15</th>\n",
              "      <th>16</th>\n",
              "      <th>17</th>\n",
              "      <th>18</th>\n",
              "      <th>19</th>\n",
              "      <th>20</th>\n",
              "      <th>21</th>\n",
              "      <th>22</th>\n",
              "      <th>23</th>\n",
              "      <th>24</th>\n",
              "      <th>25</th>\n",
              "      <th>26</th>\n",
              "      <th>27</th>\n",
              "      <th>28</th>\n",
              "      <th>29</th>\n",
              "      <th>30</th>\n",
              "      <th>31</th>\n",
              "      <th>32</th>\n",
              "      <th>...</th>\n",
              "      <th>213</th>\n",
              "      <th>214</th>\n",
              "      <th>215</th>\n",
              "      <th>216</th>\n",
              "      <th>217</th>\n",
              "      <th>218</th>\n",
              "      <th>219</th>\n",
              "      <th>220</th>\n",
              "      <th>221</th>\n",
              "      <th>222</th>\n",
              "      <th>223</th>\n",
              "      <th>224</th>\n",
              "      <th>225</th>\n",
              "      <th>226</th>\n",
              "      <th>227</th>\n",
              "      <th>228</th>\n",
              "      <th>229</th>\n",
              "      <th>230</th>\n",
              "      <th>231</th>\n",
              "      <th>232</th>\n",
              "      <th>233</th>\n",
              "      <th>234</th>\n",
              "      <th>235</th>\n",
              "      <th>236</th>\n",
              "      <th>237</th>\n",
              "      <th>238</th>\n",
              "      <th>239</th>\n",
              "      <th>240</th>\n",
              "      <th>241</th>\n",
              "      <th>242</th>\n",
              "      <th>243</th>\n",
              "      <th>244</th>\n",
              "      <th>245</th>\n",
              "      <th>246</th>\n",
              "      <th>247</th>\n",
              "      <th>248</th>\n",
              "      <th>249</th>\n",
              "      <th>250</th>\n",
              "      <th>251</th>\n",
              "      <th>252</th>\n",
              "    </tr>\n",
              "  </thead>\n",
              "  <tbody>\n",
              "    <tr>\n",
              "      <th>0</th>\n",
              "      <td>0</td>\n",
              "      <td>2</td>\n",
              "      <td>2.0</td>\n",
              "      <td>1545598800</td>\n",
              "      <td>0.0</td>\n",
              "      <td>2</td>\n",
              "      <td>1545598800</td>\n",
              "      <td>-96.799971</td>\n",
              "      <td>229.530888</td>\n",
              "      <td>-110.740786</td>\n",
              "      <td>305.723202</td>\n",
              "      <td>-116.158246</td>\n",
              "      <td>284.61821</td>\n",
              "      <td>-16.08618</td>\n",
              "      <td>-65.076097</td>\n",
              "      <td>-6.78366</td>\n",
              "      <td>-30.006538</td>\n",
              "      <td>-2.736081</td>\n",
              "      <td>-4.007526</td>\n",
              "      <td>-2.558912</td>\n",
              "      <td>-66.189127</td>\n",
              "      <td>-77.51811</td>\n",
              "      <td>-0.000725</td>\n",
              "      <td>-0.016435</td>\n",
              "      <td>-0.107041</td>\n",
              "      <td>-5.41746</td>\n",
              "      <td>-3.178521</td>\n",
              "      <td>-13.940815</td>\n",
              "      <td>-10.744164</td>\n",
              "      <td>-0.094251</td>\n",
              "      <td>-0.001733</td>\n",
              "      <td>-0.009327</td>\n",
              "      <td>-2.082209</td>\n",
              "      <td>0.200138</td>\n",
              "      <td>-0.00909</td>\n",
              "      <td>-0.351862</td>\n",
              "      <td>-0.214366</td>\n",
              "      <td>-0.211608</td>\n",
              "      <td>-0.001884</td>\n",
              "      <td>-0.000023</td>\n",
              "      <td>...</td>\n",
              "      <td>-40151.166127</td>\n",
              "      <td>-9239.707081</td>\n",
              "      <td>-2.10805</td>\n",
              "      <td>-0.000083</td>\n",
              "      <td>-0.622896</td>\n",
              "      <td>-0.00004</td>\n",
              "      <td>-0.620772</td>\n",
              "      <td>-0.012257</td>\n",
              "      <td>-0.107878</td>\n",
              "      <td>-5.726695e+08</td>\n",
              "      <td>-58.544078</td>\n",
              "      <td>1.103360e+09</td>\n",
              "      <td>-1.204418e+08</td>\n",
              "      <td>0.899332</td>\n",
              "      <td>-1.465191</td>\n",
              "      <td>-33.302382</td>\n",
              "      <td>730.871014</td>\n",
              "      <td>80.227508</td>\n",
              "      <td>-0.364694</td>\n",
              "      <td>-0.133771</td>\n",
              "      <td>-0.209468</td>\n",
              "      <td>-35.356505</td>\n",
              "      <td>-109.884564</td>\n",
              "      <td>249.30898</td>\n",
              "      <td>0.631719</td>\n",
              "      <td>-247.110707</td>\n",
              "      <td>-108.409742</td>\n",
              "      <td>606.562669</td>\n",
              "      <td>5.382022</td>\n",
              "      <td>-17.295406</td>\n",
              "      <td>2300.626154</td>\n",
              "      <td>1492.229208</td>\n",
              "      <td>-21.996269</td>\n",
              "      <td>-35.630448</td>\n",
              "      <td>368.252276</td>\n",
              "      <td>11.167111</td>\n",
              "      <td>7.305572</td>\n",
              "      <td>-12.175933</td>\n",
              "      <td>-0.45614</td>\n",
              "      <td>0.0</td>\n",
              "    </tr>\n",
              "    <tr>\n",
              "      <th>1</th>\n",
              "      <td>1</td>\n",
              "      <td>4</td>\n",
              "      <td>1.0</td>\n",
              "      <td>1533502800</td>\n",
              "      <td>0.0</td>\n",
              "      <td>4</td>\n",
              "      <td>1538341200</td>\n",
              "      <td>-96.799971</td>\n",
              "      <td>-323.429112</td>\n",
              "      <td>-110.740786</td>\n",
              "      <td>-376.036798</td>\n",
              "      <td>-116.158246</td>\n",
              "      <td>-397.14179</td>\n",
              "      <td>-16.08618</td>\n",
              "      <td>19.673903</td>\n",
              "      <td>-6.78366</td>\n",
              "      <td>54.743462</td>\n",
              "      <td>-2.736081</td>\n",
              "      <td>-4.007526</td>\n",
              "      <td>-2.558912</td>\n",
              "      <td>-66.189127</td>\n",
              "      <td>-77.51811</td>\n",
              "      <td>-0.000725</td>\n",
              "      <td>-0.016435</td>\n",
              "      <td>-0.107041</td>\n",
              "      <td>-5.41746</td>\n",
              "      <td>-3.178521</td>\n",
              "      <td>-13.940815</td>\n",
              "      <td>-10.744164</td>\n",
              "      <td>-0.094251</td>\n",
              "      <td>-0.001733</td>\n",
              "      <td>-0.009327</td>\n",
              "      <td>-2.082209</td>\n",
              "      <td>-0.799862</td>\n",
              "      <td>-0.00909</td>\n",
              "      <td>-0.351862</td>\n",
              "      <td>-0.214366</td>\n",
              "      <td>-0.211608</td>\n",
              "      <td>-0.001884</td>\n",
              "      <td>-0.000023</td>\n",
              "      <td>...</td>\n",
              "      <td>-42051.166127</td>\n",
              "      <td>-9239.707081</td>\n",
              "      <td>-2.10805</td>\n",
              "      <td>-0.000083</td>\n",
              "      <td>-0.622896</td>\n",
              "      <td>-0.00004</td>\n",
              "      <td>-0.620772</td>\n",
              "      <td>-0.012257</td>\n",
              "      <td>-0.107878</td>\n",
              "      <td>-5.726695e+08</td>\n",
              "      <td>-58.544078</td>\n",
              "      <td>-4.405604e+08</td>\n",
              "      <td>-1.204418e+08</td>\n",
              "      <td>14.565998</td>\n",
              "      <td>-1.465191</td>\n",
              "      <td>-33.302382</td>\n",
              "      <td>737.871014</td>\n",
              "      <td>-39.772492</td>\n",
              "      <td>-0.364694</td>\n",
              "      <td>-0.133771</td>\n",
              "      <td>-0.209468</td>\n",
              "      <td>-35.356505</td>\n",
              "      <td>-109.884564</td>\n",
              "      <td>-332.69102</td>\n",
              "      <td>-3.368281</td>\n",
              "      <td>-247.110707</td>\n",
              "      <td>-108.409742</td>\n",
              "      <td>27.562669</td>\n",
              "      <td>-106.617978</td>\n",
              "      <td>257.704594</td>\n",
              "      <td>4806.626154</td>\n",
              "      <td>4140.229208</td>\n",
              "      <td>-25.996269</td>\n",
              "      <td>-37.630448</td>\n",
              "      <td>-35.747724</td>\n",
              "      <td>-20.832889</td>\n",
              "      <td>-0.694428</td>\n",
              "      <td>-7.175933</td>\n",
              "      <td>-0.45614</td>\n",
              "      <td>0.0</td>\n",
              "    </tr>\n",
              "    <tr>\n",
              "      <th>2</th>\n",
              "      <td>2</td>\n",
              "      <td>15</td>\n",
              "      <td>1.0</td>\n",
              "      <td>1534107600</td>\n",
              "      <td>0.0</td>\n",
              "      <td>15</td>\n",
              "      <td>1531688400</td>\n",
              "      <td>260.810029</td>\n",
              "      <td>186.710888</td>\n",
              "      <td>249.409214</td>\n",
              "      <td>140.873202</td>\n",
              "      <td>243.991754</td>\n",
              "      <td>119.76821</td>\n",
              "      <td>341.52382</td>\n",
              "      <td>317.953903</td>\n",
              "      <td>-6.78366</td>\n",
              "      <td>-30.006538</td>\n",
              "      <td>-2.736081</td>\n",
              "      <td>-2.317526</td>\n",
              "      <td>353.361088</td>\n",
              "      <td>-66.189127</td>\n",
              "      <td>-77.51811</td>\n",
              "      <td>-0.000725</td>\n",
              "      <td>-0.016435</td>\n",
              "      <td>-0.107041</td>\n",
              "      <td>-5.41746</td>\n",
              "      <td>-3.178521</td>\n",
              "      <td>-11.400815</td>\n",
              "      <td>-10.744164</td>\n",
              "      <td>-0.094251</td>\n",
              "      <td>-0.001733</td>\n",
              "      <td>-0.009327</td>\n",
              "      <td>-2.082209</td>\n",
              "      <td>0.200138</td>\n",
              "      <td>-0.00909</td>\n",
              "      <td>-0.351862</td>\n",
              "      <td>-0.214366</td>\n",
              "      <td>-0.211608</td>\n",
              "      <td>-0.001884</td>\n",
              "      <td>-0.000023</td>\n",
              "      <td>...</td>\n",
              "      <td>-40391.166127</td>\n",
              "      <td>-9239.707081</td>\n",
              "      <td>-2.10805</td>\n",
              "      <td>-0.000083</td>\n",
              "      <td>-0.622896</td>\n",
              "      <td>-0.00004</td>\n",
              "      <td>-0.620772</td>\n",
              "      <td>-0.012257</td>\n",
              "      <td>-0.107878</td>\n",
              "      <td>9.595373e+08</td>\n",
              "      <td>-56.854078</td>\n",
              "      <td>1.067232e+09</td>\n",
              "      <td>-1.204418e+08</td>\n",
              "      <td>2.565998</td>\n",
              "      <td>0.534809</td>\n",
              "      <td>-33.302382</td>\n",
              "      <td>996.871014</td>\n",
              "      <td>-37.772492</td>\n",
              "      <td>-0.364694</td>\n",
              "      <td>-0.133771</td>\n",
              "      <td>-0.209468</td>\n",
              "      <td>-35.356505</td>\n",
              "      <td>-109.884564</td>\n",
              "      <td>2644.30898</td>\n",
              "      <td>-4.368281</td>\n",
              "      <td>-247.110707</td>\n",
              "      <td>-108.409742</td>\n",
              "      <td>3007.562669</td>\n",
              "      <td>-68.617978</td>\n",
              "      <td>-16.295406</td>\n",
              "      <td>-381.373846</td>\n",
              "      <td>-613.770792</td>\n",
              "      <td>-24.996269</td>\n",
              "      <td>-31.630448</td>\n",
              "      <td>-212.747724</td>\n",
              "      <td>108.167111</td>\n",
              "      <td>-0.694428</td>\n",
              "      <td>107.824067</td>\n",
              "      <td>13.54386</td>\n",
              "      <td>1.0</td>\n",
              "    </tr>\n",
              "    <tr>\n",
              "      <th>3</th>\n",
              "      <td>3</td>\n",
              "      <td>16</td>\n",
              "      <td>2.0</td>\n",
              "      <td>1540760400</td>\n",
              "      <td>0.0</td>\n",
              "      <td>16</td>\n",
              "      <td>1548018000</td>\n",
              "      <td>152.050029</td>\n",
              "      <td>257.220888</td>\n",
              "      <td>195.609214</td>\n",
              "      <td>267.113202</td>\n",
              "      <td>190.191754</td>\n",
              "      <td>246.00821</td>\n",
              "      <td>-16.08618</td>\n",
              "      <td>-65.076097</td>\n",
              "      <td>-6.78366</td>\n",
              "      <td>-30.006538</td>\n",
              "      <td>-2.736081</td>\n",
              "      <td>-4.007526</td>\n",
              "      <td>-2.558912</td>\n",
              "      <td>182.660873</td>\n",
              "      <td>171.33189</td>\n",
              "      <td>-0.000725</td>\n",
              "      <td>-0.016435</td>\n",
              "      <td>-0.107041</td>\n",
              "      <td>-5.41746</td>\n",
              "      <td>-3.178521</td>\n",
              "      <td>43.559185</td>\n",
              "      <td>-10.744164</td>\n",
              "      <td>-0.094251</td>\n",
              "      <td>-0.001733</td>\n",
              "      <td>-0.009327</td>\n",
              "      <td>-2.082209</td>\n",
              "      <td>0.200138</td>\n",
              "      <td>-0.00909</td>\n",
              "      <td>0.648138</td>\n",
              "      <td>0.785634</td>\n",
              "      <td>0.788392</td>\n",
              "      <td>-0.001884</td>\n",
              "      <td>-0.000023</td>\n",
              "      <td>...</td>\n",
              "      <td>-40521.166127</td>\n",
              "      <td>-9239.707081</td>\n",
              "      <td>-2.10805</td>\n",
              "      <td>-0.000083</td>\n",
              "      <td>1.377104</td>\n",
              "      <td>-0.00004</td>\n",
              "      <td>1.379228</td>\n",
              "      <td>-0.012257</td>\n",
              "      <td>-0.107878</td>\n",
              "      <td>9.758669e+08</td>\n",
              "      <td>-22.994078</td>\n",
              "      <td>1.105593e+09</td>\n",
              "      <td>-1.204418e+08</td>\n",
              "      <td>-6.913168</td>\n",
              "      <td>-1.465191</td>\n",
              "      <td>-33.302382</td>\n",
              "      <td>496.871014</td>\n",
              "      <td>-38.772492</td>\n",
              "      <td>-0.364694</td>\n",
              "      <td>-0.133771</td>\n",
              "      <td>-0.209468</td>\n",
              "      <td>-35.356505</td>\n",
              "      <td>-109.884564</td>\n",
              "      <td>-448.69102</td>\n",
              "      <td>-5.368281</td>\n",
              "      <td>-246.110707</td>\n",
              "      <td>-108.409742</td>\n",
              "      <td>-85.437331</td>\n",
              "      <td>-41.617978</td>\n",
              "      <td>-17.295406</td>\n",
              "      <td>3185.626154</td>\n",
              "      <td>-613.770792</td>\n",
              "      <td>-21.996269</td>\n",
              "      <td>-37.630448</td>\n",
              "      <td>-139.747724</td>\n",
              "      <td>-24.832889</td>\n",
              "      <td>-0.694428</td>\n",
              "      <td>-12.175933</td>\n",
              "      <td>-0.45614</td>\n",
              "      <td>0.0</td>\n",
              "    </tr>\n",
              "    <tr>\n",
              "      <th>4</th>\n",
              "      <td>4</td>\n",
              "      <td>29</td>\n",
              "      <td>1.0</td>\n",
              "      <td>1533502800</td>\n",
              "      <td>0.0</td>\n",
              "      <td>29</td>\n",
              "      <td>1532898000</td>\n",
              "      <td>-52.309971</td>\n",
              "      <td>-230.219112</td>\n",
              "      <td>-36.590786</td>\n",
              "      <td>-248.926798</td>\n",
              "      <td>-42.008246</td>\n",
              "      <td>-270.03179</td>\n",
              "      <td>-16.08618</td>\n",
              "      <td>-65.076097</td>\n",
              "      <td>-6.78366</td>\n",
              "      <td>-30.006538</td>\n",
              "      <td>-2.736081</td>\n",
              "      <td>-4.007526</td>\n",
              "      <td>-2.558912</td>\n",
              "      <td>-21.699127</td>\n",
              "      <td>-33.02811</td>\n",
              "      <td>-0.000725</td>\n",
              "      <td>-0.016435</td>\n",
              "      <td>-0.107041</td>\n",
              "      <td>-5.41746</td>\n",
              "      <td>-3.178521</td>\n",
              "      <td>15.719185</td>\n",
              "      <td>-10.744164</td>\n",
              "      <td>-0.094251</td>\n",
              "      <td>-0.001733</td>\n",
              "      <td>-0.009327</td>\n",
              "      <td>-2.082209</td>\n",
              "      <td>0.200138</td>\n",
              "      <td>-0.00909</td>\n",
              "      <td>-0.351862</td>\n",
              "      <td>-0.214366</td>\n",
              "      <td>-0.211608</td>\n",
              "      <td>-0.001884</td>\n",
              "      <td>-0.000023</td>\n",
              "      <td>...</td>\n",
              "      <td>-41661.166127</td>\n",
              "      <td>-9239.707081</td>\n",
              "      <td>-2.10805</td>\n",
              "      <td>-0.000083</td>\n",
              "      <td>-0.622896</td>\n",
              "      <td>-0.00004</td>\n",
              "      <td>-0.620772</td>\n",
              "      <td>-0.012257</td>\n",
              "      <td>-0.107878</td>\n",
              "      <td>-5.726695e+08</td>\n",
              "      <td>-58.544078</td>\n",
              "      <td>1.089874e+09</td>\n",
              "      <td>-1.204418e+08</td>\n",
              "      <td>-6.017335</td>\n",
              "      <td>-1.465191</td>\n",
              "      <td>-33.302382</td>\n",
              "      <td>-251.128986</td>\n",
              "      <td>-33.772492</td>\n",
              "      <td>-0.364694</td>\n",
              "      <td>-0.133771</td>\n",
              "      <td>-0.209468</td>\n",
              "      <td>-29.356505</td>\n",
              "      <td>-109.884564</td>\n",
              "      <td>-510.69102</td>\n",
              "      <td>-2.368281</td>\n",
              "      <td>-247.110707</td>\n",
              "      <td>-108.409742</td>\n",
              "      <td>-149.437331</td>\n",
              "      <td>-94.617978</td>\n",
              "      <td>-17.295406</td>\n",
              "      <td>-847.373846</td>\n",
              "      <td>-509.770792</td>\n",
              "      <td>-25.996269</td>\n",
              "      <td>-37.630448</td>\n",
              "      <td>-233.747724</td>\n",
              "      <td>-10.832889</td>\n",
              "      <td>-0.694428</td>\n",
              "      <td>2.824067</td>\n",
              "      <td>-0.45614</td>\n",
              "      <td>0.0</td>\n",
              "    </tr>\n",
              "  </tbody>\n",
              "</table>\n",
              "<p>5 rows × 260 columns</p>\n",
              "</div>\n",
              "      <button class=\"colab-df-convert\" onclick=\"convertToInteractive('df-21cb031f-e525-49ea-9c7f-9609e1b7c4c1')\"\n",
              "              title=\"Convert this dataframe to an interactive table.\"\n",
              "              style=\"display:none;\">\n",
              "        \n",
              "  <svg xmlns=\"http://www.w3.org/2000/svg\" height=\"24px\"viewBox=\"0 0 24 24\"\n",
              "       width=\"24px\">\n",
              "    <path d=\"M0 0h24v24H0V0z\" fill=\"none\"/>\n",
              "    <path d=\"M18.56 5.44l.94 2.06.94-2.06 2.06-.94-2.06-.94-.94-2.06-.94 2.06-2.06.94zm-11 1L8.5 8.5l.94-2.06 2.06-.94-2.06-.94L8.5 2.5l-.94 2.06-2.06.94zm10 10l.94 2.06.94-2.06 2.06-.94-2.06-.94-.94-2.06-.94 2.06-2.06.94z\"/><path d=\"M17.41 7.96l-1.37-1.37c-.4-.4-.92-.59-1.43-.59-.52 0-1.04.2-1.43.59L10.3 9.45l-7.72 7.72c-.78.78-.78 2.05 0 2.83L4 21.41c.39.39.9.59 1.41.59.51 0 1.02-.2 1.41-.59l7.78-7.78 2.81-2.81c.8-.78.8-2.07 0-2.86zM5.41 20L4 18.59l7.72-7.72 1.47 1.35L5.41 20z\"/>\n",
              "  </svg>\n",
              "      </button>\n",
              "      \n",
              "  <style>\n",
              "    .colab-df-container {\n",
              "      display:flex;\n",
              "      flex-wrap:wrap;\n",
              "      gap: 12px;\n",
              "    }\n",
              "\n",
              "    .colab-df-convert {\n",
              "      background-color: #E8F0FE;\n",
              "      border: none;\n",
              "      border-radius: 50%;\n",
              "      cursor: pointer;\n",
              "      display: none;\n",
              "      fill: #1967D2;\n",
              "      height: 32px;\n",
              "      padding: 0 0 0 0;\n",
              "      width: 32px;\n",
              "    }\n",
              "\n",
              "    .colab-df-convert:hover {\n",
              "      background-color: #E2EBFA;\n",
              "      box-shadow: 0px 1px 2px rgba(60, 64, 67, 0.3), 0px 1px 3px 1px rgba(60, 64, 67, 0.15);\n",
              "      fill: #174EA6;\n",
              "    }\n",
              "\n",
              "    [theme=dark] .colab-df-convert {\n",
              "      background-color: #3B4455;\n",
              "      fill: #D2E3FC;\n",
              "    }\n",
              "\n",
              "    [theme=dark] .colab-df-convert:hover {\n",
              "      background-color: #434B5C;\n",
              "      box-shadow: 0px 1px 3px 1px rgba(0, 0, 0, 0.15);\n",
              "      filter: drop-shadow(0px 1px 2px rgba(0, 0, 0, 0.3));\n",
              "      fill: #FFFFFF;\n",
              "    }\n",
              "  </style>\n",
              "\n",
              "      <script>\n",
              "        const buttonEl =\n",
              "          document.querySelector('#df-21cb031f-e525-49ea-9c7f-9609e1b7c4c1 button.colab-df-convert');\n",
              "        buttonEl.style.display =\n",
              "          google.colab.kernel.accessAllowed ? 'block' : 'none';\n",
              "\n",
              "        async function convertToInteractive(key) {\n",
              "          const element = document.querySelector('#df-21cb031f-e525-49ea-9c7f-9609e1b7c4c1');\n",
              "          const dataTable =\n",
              "            await google.colab.kernel.invokeFunction('convertToInteractive',\n",
              "                                                     [key], {});\n",
              "          if (!dataTable) return;\n",
              "\n",
              "          const docLinkHtml = 'Like what you see? Visit the ' +\n",
              "            '<a target=\"_blank\" href=https://colab.research.google.com/notebooks/data_table.ipynb>data table notebook</a>'\n",
              "            + ' to learn more about interactive tables.';\n",
              "          element.innerHTML = '';\n",
              "          dataTable['output_type'] = 'display_data';\n",
              "          await google.colab.output.renderOutput(dataTable, element);\n",
              "          const docLink = document.createElement('div');\n",
              "          docLink.innerHTML = docLinkHtml;\n",
              "          element.appendChild(docLink);\n",
              "        }\n",
              "      </script>\n",
              "    </div>\n",
              "  </div>\n",
              "  "
            ],
            "text/plain": [
              "   Unnamed: 0  id  vas_id    buy_time  ...       249         250       251  252\n",
              "0           0   2     2.0  1545598800  ...  7.305572  -12.175933  -0.45614  0.0\n",
              "1           1   4     1.0  1533502800  ... -0.694428   -7.175933  -0.45614  0.0\n",
              "2           2  15     1.0  1534107600  ... -0.694428  107.824067  13.54386  1.0\n",
              "3           3  16     2.0  1540760400  ... -0.694428  -12.175933  -0.45614  0.0\n",
              "4           4  29     1.0  1533502800  ... -0.694428    2.824067  -0.45614  0.0\n",
              "\n",
              "[5 rows x 260 columns]"
            ]
          },
          "metadata": {},
          "execution_count": 6
        }
      ],
      "source": [
        "data_train.head()"
      ]
    },
    {
      "cell_type": "code",
      "execution_count": 7,
      "metadata": {
        "id": "karX4YjUzgRL"
      },
      "outputs": [],
      "source": [
        "data_train = data_train.set_index('Unnamed: 0')"
      ]
    },
    {
      "cell_type": "code",
      "execution_count": 8,
      "metadata": {
        "colab": {
          "base_uri": "https://localhost:8080/",
          "height": 345
        },
        "id": "-_1XogTwzgRM",
        "outputId": "351434bb-87ff-44c4-f3b6-d05c8a40c211"
      },
      "outputs": [
        {
          "output_type": "execute_result",
          "data": {
            "text/html": [
              "\n",
              "  <div id=\"df-7a1e9c6a-30c0-42e6-b8ef-d7958ea9975b\">\n",
              "    <div class=\"colab-df-container\">\n",
              "      <div>\n",
              "<style scoped>\n",
              "    .dataframe tbody tr th:only-of-type {\n",
              "        vertical-align: middle;\n",
              "    }\n",
              "\n",
              "    .dataframe tbody tr th {\n",
              "        vertical-align: top;\n",
              "    }\n",
              "\n",
              "    .dataframe thead th {\n",
              "        text-align: right;\n",
              "    }\n",
              "</style>\n",
              "<table border=\"1\" class=\"dataframe\">\n",
              "  <thead>\n",
              "    <tr style=\"text-align: right;\">\n",
              "      <th></th>\n",
              "      <th>id</th>\n",
              "      <th>vas_id</th>\n",
              "      <th>buy_time</th>\n",
              "      <th>target</th>\n",
              "      <th>id_other</th>\n",
              "      <th>buy_time_other</th>\n",
              "      <th>0</th>\n",
              "      <th>1</th>\n",
              "      <th>2</th>\n",
              "      <th>3</th>\n",
              "      <th>4</th>\n",
              "      <th>5</th>\n",
              "      <th>6</th>\n",
              "      <th>7</th>\n",
              "      <th>8</th>\n",
              "      <th>9</th>\n",
              "      <th>10</th>\n",
              "      <th>11</th>\n",
              "      <th>12</th>\n",
              "      <th>13</th>\n",
              "      <th>14</th>\n",
              "      <th>15</th>\n",
              "      <th>16</th>\n",
              "      <th>17</th>\n",
              "      <th>18</th>\n",
              "      <th>19</th>\n",
              "      <th>20</th>\n",
              "      <th>21</th>\n",
              "      <th>22</th>\n",
              "      <th>23</th>\n",
              "      <th>24</th>\n",
              "      <th>25</th>\n",
              "      <th>26</th>\n",
              "      <th>27</th>\n",
              "      <th>28</th>\n",
              "      <th>29</th>\n",
              "      <th>30</th>\n",
              "      <th>31</th>\n",
              "      <th>32</th>\n",
              "      <th>33</th>\n",
              "      <th>...</th>\n",
              "      <th>213</th>\n",
              "      <th>214</th>\n",
              "      <th>215</th>\n",
              "      <th>216</th>\n",
              "      <th>217</th>\n",
              "      <th>218</th>\n",
              "      <th>219</th>\n",
              "      <th>220</th>\n",
              "      <th>221</th>\n",
              "      <th>222</th>\n",
              "      <th>223</th>\n",
              "      <th>224</th>\n",
              "      <th>225</th>\n",
              "      <th>226</th>\n",
              "      <th>227</th>\n",
              "      <th>228</th>\n",
              "      <th>229</th>\n",
              "      <th>230</th>\n",
              "      <th>231</th>\n",
              "      <th>232</th>\n",
              "      <th>233</th>\n",
              "      <th>234</th>\n",
              "      <th>235</th>\n",
              "      <th>236</th>\n",
              "      <th>237</th>\n",
              "      <th>238</th>\n",
              "      <th>239</th>\n",
              "      <th>240</th>\n",
              "      <th>241</th>\n",
              "      <th>242</th>\n",
              "      <th>243</th>\n",
              "      <th>244</th>\n",
              "      <th>245</th>\n",
              "      <th>246</th>\n",
              "      <th>247</th>\n",
              "      <th>248</th>\n",
              "      <th>249</th>\n",
              "      <th>250</th>\n",
              "      <th>251</th>\n",
              "      <th>252</th>\n",
              "    </tr>\n",
              "    <tr>\n",
              "      <th>Unnamed: 0</th>\n",
              "      <th></th>\n",
              "      <th></th>\n",
              "      <th></th>\n",
              "      <th></th>\n",
              "      <th></th>\n",
              "      <th></th>\n",
              "      <th></th>\n",
              "      <th></th>\n",
              "      <th></th>\n",
              "      <th></th>\n",
              "      <th></th>\n",
              "      <th></th>\n",
              "      <th></th>\n",
              "      <th></th>\n",
              "      <th></th>\n",
              "      <th></th>\n",
              "      <th></th>\n",
              "      <th></th>\n",
              "      <th></th>\n",
              "      <th></th>\n",
              "      <th></th>\n",
              "      <th></th>\n",
              "      <th></th>\n",
              "      <th></th>\n",
              "      <th></th>\n",
              "      <th></th>\n",
              "      <th></th>\n",
              "      <th></th>\n",
              "      <th></th>\n",
              "      <th></th>\n",
              "      <th></th>\n",
              "      <th></th>\n",
              "      <th></th>\n",
              "      <th></th>\n",
              "      <th></th>\n",
              "      <th></th>\n",
              "      <th></th>\n",
              "      <th></th>\n",
              "      <th></th>\n",
              "      <th></th>\n",
              "      <th></th>\n",
              "      <th></th>\n",
              "      <th></th>\n",
              "      <th></th>\n",
              "      <th></th>\n",
              "      <th></th>\n",
              "      <th></th>\n",
              "      <th></th>\n",
              "      <th></th>\n",
              "      <th></th>\n",
              "      <th></th>\n",
              "      <th></th>\n",
              "      <th></th>\n",
              "      <th></th>\n",
              "      <th></th>\n",
              "      <th></th>\n",
              "      <th></th>\n",
              "      <th></th>\n",
              "      <th></th>\n",
              "      <th></th>\n",
              "      <th></th>\n",
              "      <th></th>\n",
              "      <th></th>\n",
              "      <th></th>\n",
              "      <th></th>\n",
              "      <th></th>\n",
              "      <th></th>\n",
              "      <th></th>\n",
              "      <th></th>\n",
              "      <th></th>\n",
              "      <th></th>\n",
              "      <th></th>\n",
              "      <th></th>\n",
              "      <th></th>\n",
              "      <th></th>\n",
              "      <th></th>\n",
              "      <th></th>\n",
              "      <th></th>\n",
              "      <th></th>\n",
              "      <th></th>\n",
              "      <th></th>\n",
              "    </tr>\n",
              "  </thead>\n",
              "  <tbody>\n",
              "    <tr>\n",
              "      <th>0</th>\n",
              "      <td>2</td>\n",
              "      <td>2.0</td>\n",
              "      <td>1545598800</td>\n",
              "      <td>0.0</td>\n",
              "      <td>2</td>\n",
              "      <td>1545598800</td>\n",
              "      <td>-96.799971</td>\n",
              "      <td>229.530888</td>\n",
              "      <td>-110.740786</td>\n",
              "      <td>305.723202</td>\n",
              "      <td>-116.158246</td>\n",
              "      <td>284.61821</td>\n",
              "      <td>-16.08618</td>\n",
              "      <td>-65.076097</td>\n",
              "      <td>-6.78366</td>\n",
              "      <td>-30.006538</td>\n",
              "      <td>-2.736081</td>\n",
              "      <td>-4.007526</td>\n",
              "      <td>-2.558912</td>\n",
              "      <td>-66.189127</td>\n",
              "      <td>-77.51811</td>\n",
              "      <td>-0.000725</td>\n",
              "      <td>-0.016435</td>\n",
              "      <td>-0.107041</td>\n",
              "      <td>-5.41746</td>\n",
              "      <td>-3.178521</td>\n",
              "      <td>-13.940815</td>\n",
              "      <td>-10.744164</td>\n",
              "      <td>-0.094251</td>\n",
              "      <td>-0.001733</td>\n",
              "      <td>-0.009327</td>\n",
              "      <td>-2.082209</td>\n",
              "      <td>0.200138</td>\n",
              "      <td>-0.00909</td>\n",
              "      <td>-0.351862</td>\n",
              "      <td>-0.214366</td>\n",
              "      <td>-0.211608</td>\n",
              "      <td>-0.001884</td>\n",
              "      <td>-0.000023</td>\n",
              "      <td>-0.00003</td>\n",
              "      <td>...</td>\n",
              "      <td>-40151.166127</td>\n",
              "      <td>-9239.707081</td>\n",
              "      <td>-2.10805</td>\n",
              "      <td>-0.000083</td>\n",
              "      <td>-0.622896</td>\n",
              "      <td>-0.00004</td>\n",
              "      <td>-0.620772</td>\n",
              "      <td>-0.012257</td>\n",
              "      <td>-0.107878</td>\n",
              "      <td>-5.726695e+08</td>\n",
              "      <td>-58.544078</td>\n",
              "      <td>1.103360e+09</td>\n",
              "      <td>-1.204418e+08</td>\n",
              "      <td>0.899332</td>\n",
              "      <td>-1.465191</td>\n",
              "      <td>-33.302382</td>\n",
              "      <td>730.871014</td>\n",
              "      <td>80.227508</td>\n",
              "      <td>-0.364694</td>\n",
              "      <td>-0.133771</td>\n",
              "      <td>-0.209468</td>\n",
              "      <td>-35.356505</td>\n",
              "      <td>-109.884564</td>\n",
              "      <td>249.30898</td>\n",
              "      <td>0.631719</td>\n",
              "      <td>-247.110707</td>\n",
              "      <td>-108.409742</td>\n",
              "      <td>606.562669</td>\n",
              "      <td>5.382022</td>\n",
              "      <td>-17.295406</td>\n",
              "      <td>2300.626154</td>\n",
              "      <td>1492.229208</td>\n",
              "      <td>-21.996269</td>\n",
              "      <td>-35.630448</td>\n",
              "      <td>368.252276</td>\n",
              "      <td>11.167111</td>\n",
              "      <td>7.305572</td>\n",
              "      <td>-12.175933</td>\n",
              "      <td>-0.45614</td>\n",
              "      <td>0.0</td>\n",
              "    </tr>\n",
              "    <tr>\n",
              "      <th>1</th>\n",
              "      <td>4</td>\n",
              "      <td>1.0</td>\n",
              "      <td>1533502800</td>\n",
              "      <td>0.0</td>\n",
              "      <td>4</td>\n",
              "      <td>1538341200</td>\n",
              "      <td>-96.799971</td>\n",
              "      <td>-323.429112</td>\n",
              "      <td>-110.740786</td>\n",
              "      <td>-376.036798</td>\n",
              "      <td>-116.158246</td>\n",
              "      <td>-397.14179</td>\n",
              "      <td>-16.08618</td>\n",
              "      <td>19.673903</td>\n",
              "      <td>-6.78366</td>\n",
              "      <td>54.743462</td>\n",
              "      <td>-2.736081</td>\n",
              "      <td>-4.007526</td>\n",
              "      <td>-2.558912</td>\n",
              "      <td>-66.189127</td>\n",
              "      <td>-77.51811</td>\n",
              "      <td>-0.000725</td>\n",
              "      <td>-0.016435</td>\n",
              "      <td>-0.107041</td>\n",
              "      <td>-5.41746</td>\n",
              "      <td>-3.178521</td>\n",
              "      <td>-13.940815</td>\n",
              "      <td>-10.744164</td>\n",
              "      <td>-0.094251</td>\n",
              "      <td>-0.001733</td>\n",
              "      <td>-0.009327</td>\n",
              "      <td>-2.082209</td>\n",
              "      <td>-0.799862</td>\n",
              "      <td>-0.00909</td>\n",
              "      <td>-0.351862</td>\n",
              "      <td>-0.214366</td>\n",
              "      <td>-0.211608</td>\n",
              "      <td>-0.001884</td>\n",
              "      <td>-0.000023</td>\n",
              "      <td>-0.00003</td>\n",
              "      <td>...</td>\n",
              "      <td>-42051.166127</td>\n",
              "      <td>-9239.707081</td>\n",
              "      <td>-2.10805</td>\n",
              "      <td>-0.000083</td>\n",
              "      <td>-0.622896</td>\n",
              "      <td>-0.00004</td>\n",
              "      <td>-0.620772</td>\n",
              "      <td>-0.012257</td>\n",
              "      <td>-0.107878</td>\n",
              "      <td>-5.726695e+08</td>\n",
              "      <td>-58.544078</td>\n",
              "      <td>-4.405604e+08</td>\n",
              "      <td>-1.204418e+08</td>\n",
              "      <td>14.565998</td>\n",
              "      <td>-1.465191</td>\n",
              "      <td>-33.302382</td>\n",
              "      <td>737.871014</td>\n",
              "      <td>-39.772492</td>\n",
              "      <td>-0.364694</td>\n",
              "      <td>-0.133771</td>\n",
              "      <td>-0.209468</td>\n",
              "      <td>-35.356505</td>\n",
              "      <td>-109.884564</td>\n",
              "      <td>-332.69102</td>\n",
              "      <td>-3.368281</td>\n",
              "      <td>-247.110707</td>\n",
              "      <td>-108.409742</td>\n",
              "      <td>27.562669</td>\n",
              "      <td>-106.617978</td>\n",
              "      <td>257.704594</td>\n",
              "      <td>4806.626154</td>\n",
              "      <td>4140.229208</td>\n",
              "      <td>-25.996269</td>\n",
              "      <td>-37.630448</td>\n",
              "      <td>-35.747724</td>\n",
              "      <td>-20.832889</td>\n",
              "      <td>-0.694428</td>\n",
              "      <td>-7.175933</td>\n",
              "      <td>-0.45614</td>\n",
              "      <td>0.0</td>\n",
              "    </tr>\n",
              "    <tr>\n",
              "      <th>2</th>\n",
              "      <td>15</td>\n",
              "      <td>1.0</td>\n",
              "      <td>1534107600</td>\n",
              "      <td>0.0</td>\n",
              "      <td>15</td>\n",
              "      <td>1531688400</td>\n",
              "      <td>260.810029</td>\n",
              "      <td>186.710888</td>\n",
              "      <td>249.409214</td>\n",
              "      <td>140.873202</td>\n",
              "      <td>243.991754</td>\n",
              "      <td>119.76821</td>\n",
              "      <td>341.52382</td>\n",
              "      <td>317.953903</td>\n",
              "      <td>-6.78366</td>\n",
              "      <td>-30.006538</td>\n",
              "      <td>-2.736081</td>\n",
              "      <td>-2.317526</td>\n",
              "      <td>353.361088</td>\n",
              "      <td>-66.189127</td>\n",
              "      <td>-77.51811</td>\n",
              "      <td>-0.000725</td>\n",
              "      <td>-0.016435</td>\n",
              "      <td>-0.107041</td>\n",
              "      <td>-5.41746</td>\n",
              "      <td>-3.178521</td>\n",
              "      <td>-11.400815</td>\n",
              "      <td>-10.744164</td>\n",
              "      <td>-0.094251</td>\n",
              "      <td>-0.001733</td>\n",
              "      <td>-0.009327</td>\n",
              "      <td>-2.082209</td>\n",
              "      <td>0.200138</td>\n",
              "      <td>-0.00909</td>\n",
              "      <td>-0.351862</td>\n",
              "      <td>-0.214366</td>\n",
              "      <td>-0.211608</td>\n",
              "      <td>-0.001884</td>\n",
              "      <td>-0.000023</td>\n",
              "      <td>-0.00003</td>\n",
              "      <td>...</td>\n",
              "      <td>-40391.166127</td>\n",
              "      <td>-9239.707081</td>\n",
              "      <td>-2.10805</td>\n",
              "      <td>-0.000083</td>\n",
              "      <td>-0.622896</td>\n",
              "      <td>-0.00004</td>\n",
              "      <td>-0.620772</td>\n",
              "      <td>-0.012257</td>\n",
              "      <td>-0.107878</td>\n",
              "      <td>9.595373e+08</td>\n",
              "      <td>-56.854078</td>\n",
              "      <td>1.067232e+09</td>\n",
              "      <td>-1.204418e+08</td>\n",
              "      <td>2.565998</td>\n",
              "      <td>0.534809</td>\n",
              "      <td>-33.302382</td>\n",
              "      <td>996.871014</td>\n",
              "      <td>-37.772492</td>\n",
              "      <td>-0.364694</td>\n",
              "      <td>-0.133771</td>\n",
              "      <td>-0.209468</td>\n",
              "      <td>-35.356505</td>\n",
              "      <td>-109.884564</td>\n",
              "      <td>2644.30898</td>\n",
              "      <td>-4.368281</td>\n",
              "      <td>-247.110707</td>\n",
              "      <td>-108.409742</td>\n",
              "      <td>3007.562669</td>\n",
              "      <td>-68.617978</td>\n",
              "      <td>-16.295406</td>\n",
              "      <td>-381.373846</td>\n",
              "      <td>-613.770792</td>\n",
              "      <td>-24.996269</td>\n",
              "      <td>-31.630448</td>\n",
              "      <td>-212.747724</td>\n",
              "      <td>108.167111</td>\n",
              "      <td>-0.694428</td>\n",
              "      <td>107.824067</td>\n",
              "      <td>13.54386</td>\n",
              "      <td>1.0</td>\n",
              "    </tr>\n",
              "    <tr>\n",
              "      <th>3</th>\n",
              "      <td>16</td>\n",
              "      <td>2.0</td>\n",
              "      <td>1540760400</td>\n",
              "      <td>0.0</td>\n",
              "      <td>16</td>\n",
              "      <td>1548018000</td>\n",
              "      <td>152.050029</td>\n",
              "      <td>257.220888</td>\n",
              "      <td>195.609214</td>\n",
              "      <td>267.113202</td>\n",
              "      <td>190.191754</td>\n",
              "      <td>246.00821</td>\n",
              "      <td>-16.08618</td>\n",
              "      <td>-65.076097</td>\n",
              "      <td>-6.78366</td>\n",
              "      <td>-30.006538</td>\n",
              "      <td>-2.736081</td>\n",
              "      <td>-4.007526</td>\n",
              "      <td>-2.558912</td>\n",
              "      <td>182.660873</td>\n",
              "      <td>171.33189</td>\n",
              "      <td>-0.000725</td>\n",
              "      <td>-0.016435</td>\n",
              "      <td>-0.107041</td>\n",
              "      <td>-5.41746</td>\n",
              "      <td>-3.178521</td>\n",
              "      <td>43.559185</td>\n",
              "      <td>-10.744164</td>\n",
              "      <td>-0.094251</td>\n",
              "      <td>-0.001733</td>\n",
              "      <td>-0.009327</td>\n",
              "      <td>-2.082209</td>\n",
              "      <td>0.200138</td>\n",
              "      <td>-0.00909</td>\n",
              "      <td>0.648138</td>\n",
              "      <td>0.785634</td>\n",
              "      <td>0.788392</td>\n",
              "      <td>-0.001884</td>\n",
              "      <td>-0.000023</td>\n",
              "      <td>-0.00003</td>\n",
              "      <td>...</td>\n",
              "      <td>-40521.166127</td>\n",
              "      <td>-9239.707081</td>\n",
              "      <td>-2.10805</td>\n",
              "      <td>-0.000083</td>\n",
              "      <td>1.377104</td>\n",
              "      <td>-0.00004</td>\n",
              "      <td>1.379228</td>\n",
              "      <td>-0.012257</td>\n",
              "      <td>-0.107878</td>\n",
              "      <td>9.758669e+08</td>\n",
              "      <td>-22.994078</td>\n",
              "      <td>1.105593e+09</td>\n",
              "      <td>-1.204418e+08</td>\n",
              "      <td>-6.913168</td>\n",
              "      <td>-1.465191</td>\n",
              "      <td>-33.302382</td>\n",
              "      <td>496.871014</td>\n",
              "      <td>-38.772492</td>\n",
              "      <td>-0.364694</td>\n",
              "      <td>-0.133771</td>\n",
              "      <td>-0.209468</td>\n",
              "      <td>-35.356505</td>\n",
              "      <td>-109.884564</td>\n",
              "      <td>-448.69102</td>\n",
              "      <td>-5.368281</td>\n",
              "      <td>-246.110707</td>\n",
              "      <td>-108.409742</td>\n",
              "      <td>-85.437331</td>\n",
              "      <td>-41.617978</td>\n",
              "      <td>-17.295406</td>\n",
              "      <td>3185.626154</td>\n",
              "      <td>-613.770792</td>\n",
              "      <td>-21.996269</td>\n",
              "      <td>-37.630448</td>\n",
              "      <td>-139.747724</td>\n",
              "      <td>-24.832889</td>\n",
              "      <td>-0.694428</td>\n",
              "      <td>-12.175933</td>\n",
              "      <td>-0.45614</td>\n",
              "      <td>0.0</td>\n",
              "    </tr>\n",
              "    <tr>\n",
              "      <th>4</th>\n",
              "      <td>29</td>\n",
              "      <td>1.0</td>\n",
              "      <td>1533502800</td>\n",
              "      <td>0.0</td>\n",
              "      <td>29</td>\n",
              "      <td>1532898000</td>\n",
              "      <td>-52.309971</td>\n",
              "      <td>-230.219112</td>\n",
              "      <td>-36.590786</td>\n",
              "      <td>-248.926798</td>\n",
              "      <td>-42.008246</td>\n",
              "      <td>-270.03179</td>\n",
              "      <td>-16.08618</td>\n",
              "      <td>-65.076097</td>\n",
              "      <td>-6.78366</td>\n",
              "      <td>-30.006538</td>\n",
              "      <td>-2.736081</td>\n",
              "      <td>-4.007526</td>\n",
              "      <td>-2.558912</td>\n",
              "      <td>-21.699127</td>\n",
              "      <td>-33.02811</td>\n",
              "      <td>-0.000725</td>\n",
              "      <td>-0.016435</td>\n",
              "      <td>-0.107041</td>\n",
              "      <td>-5.41746</td>\n",
              "      <td>-3.178521</td>\n",
              "      <td>15.719185</td>\n",
              "      <td>-10.744164</td>\n",
              "      <td>-0.094251</td>\n",
              "      <td>-0.001733</td>\n",
              "      <td>-0.009327</td>\n",
              "      <td>-2.082209</td>\n",
              "      <td>0.200138</td>\n",
              "      <td>-0.00909</td>\n",
              "      <td>-0.351862</td>\n",
              "      <td>-0.214366</td>\n",
              "      <td>-0.211608</td>\n",
              "      <td>-0.001884</td>\n",
              "      <td>-0.000023</td>\n",
              "      <td>-0.00003</td>\n",
              "      <td>...</td>\n",
              "      <td>-41661.166127</td>\n",
              "      <td>-9239.707081</td>\n",
              "      <td>-2.10805</td>\n",
              "      <td>-0.000083</td>\n",
              "      <td>-0.622896</td>\n",
              "      <td>-0.00004</td>\n",
              "      <td>-0.620772</td>\n",
              "      <td>-0.012257</td>\n",
              "      <td>-0.107878</td>\n",
              "      <td>-5.726695e+08</td>\n",
              "      <td>-58.544078</td>\n",
              "      <td>1.089874e+09</td>\n",
              "      <td>-1.204418e+08</td>\n",
              "      <td>-6.017335</td>\n",
              "      <td>-1.465191</td>\n",
              "      <td>-33.302382</td>\n",
              "      <td>-251.128986</td>\n",
              "      <td>-33.772492</td>\n",
              "      <td>-0.364694</td>\n",
              "      <td>-0.133771</td>\n",
              "      <td>-0.209468</td>\n",
              "      <td>-29.356505</td>\n",
              "      <td>-109.884564</td>\n",
              "      <td>-510.69102</td>\n",
              "      <td>-2.368281</td>\n",
              "      <td>-247.110707</td>\n",
              "      <td>-108.409742</td>\n",
              "      <td>-149.437331</td>\n",
              "      <td>-94.617978</td>\n",
              "      <td>-17.295406</td>\n",
              "      <td>-847.373846</td>\n",
              "      <td>-509.770792</td>\n",
              "      <td>-25.996269</td>\n",
              "      <td>-37.630448</td>\n",
              "      <td>-233.747724</td>\n",
              "      <td>-10.832889</td>\n",
              "      <td>-0.694428</td>\n",
              "      <td>2.824067</td>\n",
              "      <td>-0.45614</td>\n",
              "      <td>0.0</td>\n",
              "    </tr>\n",
              "  </tbody>\n",
              "</table>\n",
              "<p>5 rows × 259 columns</p>\n",
              "</div>\n",
              "      <button class=\"colab-df-convert\" onclick=\"convertToInteractive('df-7a1e9c6a-30c0-42e6-b8ef-d7958ea9975b')\"\n",
              "              title=\"Convert this dataframe to an interactive table.\"\n",
              "              style=\"display:none;\">\n",
              "        \n",
              "  <svg xmlns=\"http://www.w3.org/2000/svg\" height=\"24px\"viewBox=\"0 0 24 24\"\n",
              "       width=\"24px\">\n",
              "    <path d=\"M0 0h24v24H0V0z\" fill=\"none\"/>\n",
              "    <path d=\"M18.56 5.44l.94 2.06.94-2.06 2.06-.94-2.06-.94-.94-2.06-.94 2.06-2.06.94zm-11 1L8.5 8.5l.94-2.06 2.06-.94-2.06-.94L8.5 2.5l-.94 2.06-2.06.94zm10 10l.94 2.06.94-2.06 2.06-.94-2.06-.94-.94-2.06-.94 2.06-2.06.94z\"/><path d=\"M17.41 7.96l-1.37-1.37c-.4-.4-.92-.59-1.43-.59-.52 0-1.04.2-1.43.59L10.3 9.45l-7.72 7.72c-.78.78-.78 2.05 0 2.83L4 21.41c.39.39.9.59 1.41.59.51 0 1.02-.2 1.41-.59l7.78-7.78 2.81-2.81c.8-.78.8-2.07 0-2.86zM5.41 20L4 18.59l7.72-7.72 1.47 1.35L5.41 20z\"/>\n",
              "  </svg>\n",
              "      </button>\n",
              "      \n",
              "  <style>\n",
              "    .colab-df-container {\n",
              "      display:flex;\n",
              "      flex-wrap:wrap;\n",
              "      gap: 12px;\n",
              "    }\n",
              "\n",
              "    .colab-df-convert {\n",
              "      background-color: #E8F0FE;\n",
              "      border: none;\n",
              "      border-radius: 50%;\n",
              "      cursor: pointer;\n",
              "      display: none;\n",
              "      fill: #1967D2;\n",
              "      height: 32px;\n",
              "      padding: 0 0 0 0;\n",
              "      width: 32px;\n",
              "    }\n",
              "\n",
              "    .colab-df-convert:hover {\n",
              "      background-color: #E2EBFA;\n",
              "      box-shadow: 0px 1px 2px rgba(60, 64, 67, 0.3), 0px 1px 3px 1px rgba(60, 64, 67, 0.15);\n",
              "      fill: #174EA6;\n",
              "    }\n",
              "\n",
              "    [theme=dark] .colab-df-convert {\n",
              "      background-color: #3B4455;\n",
              "      fill: #D2E3FC;\n",
              "    }\n",
              "\n",
              "    [theme=dark] .colab-df-convert:hover {\n",
              "      background-color: #434B5C;\n",
              "      box-shadow: 0px 1px 3px 1px rgba(0, 0, 0, 0.15);\n",
              "      filter: drop-shadow(0px 1px 2px rgba(0, 0, 0, 0.3));\n",
              "      fill: #FFFFFF;\n",
              "    }\n",
              "  </style>\n",
              "\n",
              "      <script>\n",
              "        const buttonEl =\n",
              "          document.querySelector('#df-7a1e9c6a-30c0-42e6-b8ef-d7958ea9975b button.colab-df-convert');\n",
              "        buttonEl.style.display =\n",
              "          google.colab.kernel.accessAllowed ? 'block' : 'none';\n",
              "\n",
              "        async function convertToInteractive(key) {\n",
              "          const element = document.querySelector('#df-7a1e9c6a-30c0-42e6-b8ef-d7958ea9975b');\n",
              "          const dataTable =\n",
              "            await google.colab.kernel.invokeFunction('convertToInteractive',\n",
              "                                                     [key], {});\n",
              "          if (!dataTable) return;\n",
              "\n",
              "          const docLinkHtml = 'Like what you see? Visit the ' +\n",
              "            '<a target=\"_blank\" href=https://colab.research.google.com/notebooks/data_table.ipynb>data table notebook</a>'\n",
              "            + ' to learn more about interactive tables.';\n",
              "          element.innerHTML = '';\n",
              "          dataTable['output_type'] = 'display_data';\n",
              "          await google.colab.output.renderOutput(dataTable, element);\n",
              "          const docLink = document.createElement('div');\n",
              "          docLink.innerHTML = docLinkHtml;\n",
              "          element.appendChild(docLink);\n",
              "        }\n",
              "      </script>\n",
              "    </div>\n",
              "  </div>\n",
              "  "
            ],
            "text/plain": [
              "            id  vas_id    buy_time  target  ...       249         250       251  252\n",
              "Unnamed: 0                                  ...                                     \n",
              "0            2     2.0  1545598800     0.0  ...  7.305572  -12.175933  -0.45614  0.0\n",
              "1            4     1.0  1533502800     0.0  ... -0.694428   -7.175933  -0.45614  0.0\n",
              "2           15     1.0  1534107600     0.0  ... -0.694428  107.824067  13.54386  1.0\n",
              "3           16     2.0  1540760400     0.0  ... -0.694428  -12.175933  -0.45614  0.0\n",
              "4           29     1.0  1533502800     0.0  ... -0.694428    2.824067  -0.45614  0.0\n",
              "\n",
              "[5 rows x 259 columns]"
            ]
          },
          "metadata": {},
          "execution_count": 8
        }
      ],
      "source": [
        "data_train.head()"
      ]
    },
    {
      "cell_type": "code",
      "execution_count": 9,
      "metadata": {
        "colab": {
          "base_uri": "https://localhost:8080/"
        },
        "id": "GUqIuZmezgRN",
        "outputId": "b6337618-54e5-4478-9497-4610e0826580"
      },
      "outputs": [
        {
          "output_type": "execute_result",
          "data": {
            "text/plain": [
              "(71231, 259)"
            ]
          },
          "metadata": {},
          "execution_count": 9
        }
      ],
      "source": [
        "data_test = pd.read_csv('/content/drive/MyDrive/data_test_with_features.csv')\n",
        "data_test.shape"
      ]
    },
    {
      "cell_type": "code",
      "execution_count": 10,
      "metadata": {
        "colab": {
          "base_uri": "https://localhost:8080/",
          "height": 314
        },
        "id": "vONBjA-QzgRN",
        "outputId": "060259c3-58b0-49fd-cd59-b601628042a9"
      },
      "outputs": [
        {
          "output_type": "execute_result",
          "data": {
            "text/html": [
              "\n",
              "  <div id=\"df-34d314ab-2fec-40d3-8116-e8e2a7ea2557\">\n",
              "    <div class=\"colab-df-container\">\n",
              "      <div>\n",
              "<style scoped>\n",
              "    .dataframe tbody tr th:only-of-type {\n",
              "        vertical-align: middle;\n",
              "    }\n",
              "\n",
              "    .dataframe tbody tr th {\n",
              "        vertical-align: top;\n",
              "    }\n",
              "\n",
              "    .dataframe thead th {\n",
              "        text-align: right;\n",
              "    }\n",
              "</style>\n",
              "<table border=\"1\" class=\"dataframe\">\n",
              "  <thead>\n",
              "    <tr style=\"text-align: right;\">\n",
              "      <th></th>\n",
              "      <th>Unnamed: 0</th>\n",
              "      <th>id</th>\n",
              "      <th>vas_id</th>\n",
              "      <th>buy_time</th>\n",
              "      <th>id_other</th>\n",
              "      <th>buy_time_other</th>\n",
              "      <th>0</th>\n",
              "      <th>1</th>\n",
              "      <th>2</th>\n",
              "      <th>3</th>\n",
              "      <th>4</th>\n",
              "      <th>5</th>\n",
              "      <th>6</th>\n",
              "      <th>7</th>\n",
              "      <th>8</th>\n",
              "      <th>9</th>\n",
              "      <th>10</th>\n",
              "      <th>11</th>\n",
              "      <th>12</th>\n",
              "      <th>13</th>\n",
              "      <th>14</th>\n",
              "      <th>15</th>\n",
              "      <th>16</th>\n",
              "      <th>17</th>\n",
              "      <th>18</th>\n",
              "      <th>19</th>\n",
              "      <th>20</th>\n",
              "      <th>21</th>\n",
              "      <th>22</th>\n",
              "      <th>23</th>\n",
              "      <th>24</th>\n",
              "      <th>25</th>\n",
              "      <th>26</th>\n",
              "      <th>27</th>\n",
              "      <th>28</th>\n",
              "      <th>29</th>\n",
              "      <th>30</th>\n",
              "      <th>31</th>\n",
              "      <th>32</th>\n",
              "      <th>33</th>\n",
              "      <th>...</th>\n",
              "      <th>213</th>\n",
              "      <th>214</th>\n",
              "      <th>215</th>\n",
              "      <th>216</th>\n",
              "      <th>217</th>\n",
              "      <th>218</th>\n",
              "      <th>219</th>\n",
              "      <th>220</th>\n",
              "      <th>221</th>\n",
              "      <th>222</th>\n",
              "      <th>223</th>\n",
              "      <th>224</th>\n",
              "      <th>225</th>\n",
              "      <th>226</th>\n",
              "      <th>227</th>\n",
              "      <th>228</th>\n",
              "      <th>229</th>\n",
              "      <th>230</th>\n",
              "      <th>231</th>\n",
              "      <th>232</th>\n",
              "      <th>233</th>\n",
              "      <th>234</th>\n",
              "      <th>235</th>\n",
              "      <th>236</th>\n",
              "      <th>237</th>\n",
              "      <th>238</th>\n",
              "      <th>239</th>\n",
              "      <th>240</th>\n",
              "      <th>241</th>\n",
              "      <th>242</th>\n",
              "      <th>243</th>\n",
              "      <th>244</th>\n",
              "      <th>245</th>\n",
              "      <th>246</th>\n",
              "      <th>247</th>\n",
              "      <th>248</th>\n",
              "      <th>249</th>\n",
              "      <th>250</th>\n",
              "      <th>251</th>\n",
              "      <th>252</th>\n",
              "    </tr>\n",
              "  </thead>\n",
              "  <tbody>\n",
              "    <tr>\n",
              "      <th>0</th>\n",
              "      <td>0</td>\n",
              "      <td>55</td>\n",
              "      <td>2.0</td>\n",
              "      <td>1547413200</td>\n",
              "      <td>54</td>\n",
              "      <td>1537131600</td>\n",
              "      <td>4.320029</td>\n",
              "      <td>-157.679112</td>\n",
              "      <td>-9.620786</td>\n",
              "      <td>-201.816798</td>\n",
              "      <td>-15.038246</td>\n",
              "      <td>144.03821</td>\n",
              "      <td>-16.08618</td>\n",
              "      <td>-65.076097</td>\n",
              "      <td>-6.78366</td>\n",
              "      <td>-30.006538</td>\n",
              "      <td>-2.736081</td>\n",
              "      <td>-4.007526</td>\n",
              "      <td>-2.558912</td>\n",
              "      <td>-16.769127</td>\n",
              "      <td>5.80189</td>\n",
              "      <td>-0.000725</td>\n",
              "      <td>-0.016435</td>\n",
              "      <td>-0.107041</td>\n",
              "      <td>-5.41746</td>\n",
              "      <td>14.621479</td>\n",
              "      <td>-13.940815</td>\n",
              "      <td>-10.744164</td>\n",
              "      <td>-0.094251</td>\n",
              "      <td>-0.001733</td>\n",
              "      <td>-0.009327</td>\n",
              "      <td>15.717791</td>\n",
              "      <td>0.200138</td>\n",
              "      <td>-0.00909</td>\n",
              "      <td>-0.351862</td>\n",
              "      <td>-0.214366</td>\n",
              "      <td>-0.211608</td>\n",
              "      <td>-0.001884</td>\n",
              "      <td>-0.000023</td>\n",
              "      <td>-0.00003</td>\n",
              "      <td>...</td>\n",
              "      <td>-42051.166127</td>\n",
              "      <td>-9236.707081</td>\n",
              "      <td>47.89195</td>\n",
              "      <td>-0.000083</td>\n",
              "      <td>2.377104</td>\n",
              "      <td>-0.00004</td>\n",
              "      <td>2.379228</td>\n",
              "      <td>-0.012257</td>\n",
              "      <td>-0.107878</td>\n",
              "      <td>9.649805e+08</td>\n",
              "      <td>-51.484078</td>\n",
              "      <td>6.531241e+08</td>\n",
              "      <td>1.380634e+09</td>\n",
              "      <td>-11.600668</td>\n",
              "      <td>-1.465191</td>\n",
              "      <td>-33.302382</td>\n",
              "      <td>-266.128986</td>\n",
              "      <td>-39.772492</td>\n",
              "      <td>-0.364694</td>\n",
              "      <td>-0.133771</td>\n",
              "      <td>-0.209468</td>\n",
              "      <td>-35.356505</td>\n",
              "      <td>-109.884564</td>\n",
              "      <td>-876.69102</td>\n",
              "      <td>-5.368281</td>\n",
              "      <td>-247.110707</td>\n",
              "      <td>-108.409742</td>\n",
              "      <td>-512.437331</td>\n",
              "      <td>-106.617978</td>\n",
              "      <td>-17.295406</td>\n",
              "      <td>-977.373846</td>\n",
              "      <td>-613.770792</td>\n",
              "      <td>-25.996269</td>\n",
              "      <td>-37.630448</td>\n",
              "      <td>-306.747724</td>\n",
              "      <td>-25.832889</td>\n",
              "      <td>-0.694428</td>\n",
              "      <td>-12.175933</td>\n",
              "      <td>-0.45614</td>\n",
              "      <td>1.0</td>\n",
              "    </tr>\n",
              "    <tr>\n",
              "      <th>1</th>\n",
              "      <td>1</td>\n",
              "      <td>64</td>\n",
              "      <td>4.0</td>\n",
              "      <td>1548018000</td>\n",
              "      <td>63</td>\n",
              "      <td>1532293200</td>\n",
              "      <td>504.740029</td>\n",
              "      <td>1330.840888</td>\n",
              "      <td>519.619214</td>\n",
              "      <td>1388.833202</td>\n",
              "      <td>514.201754</td>\n",
              "      <td>1367.72821</td>\n",
              "      <td>532.21382</td>\n",
              "      <td>1201.013903</td>\n",
              "      <td>-6.78366</td>\n",
              "      <td>208.924692</td>\n",
              "      <td>-2.736081</td>\n",
              "      <td>493.442474</td>\n",
              "      <td>48.291088</td>\n",
              "      <td>-66.189127</td>\n",
              "      <td>-35.98811</td>\n",
              "      <td>-0.000725</td>\n",
              "      <td>-0.016435</td>\n",
              "      <td>-0.107041</td>\n",
              "      <td>-5.41746</td>\n",
              "      <td>8.531479</td>\n",
              "      <td>14.879185</td>\n",
              "      <td>480.775836</td>\n",
              "      <td>-0.094251</td>\n",
              "      <td>-0.001733</td>\n",
              "      <td>-0.009327</td>\n",
              "      <td>9.627791</td>\n",
              "      <td>0.200138</td>\n",
              "      <td>-0.00909</td>\n",
              "      <td>0.648138</td>\n",
              "      <td>1.785634</td>\n",
              "      <td>0.788392</td>\n",
              "      <td>-0.001884</td>\n",
              "      <td>-0.000023</td>\n",
              "      <td>-0.00003</td>\n",
              "      <td>...</td>\n",
              "      <td>-42051.166127</td>\n",
              "      <td>-9239.707081</td>\n",
              "      <td>-2.10805</td>\n",
              "      <td>-0.000083</td>\n",
              "      <td>3.377104</td>\n",
              "      <td>-0.00004</td>\n",
              "      <td>3.379228</td>\n",
              "      <td>-0.012257</td>\n",
              "      <td>-0.107878</td>\n",
              "      <td>-5.726695e+08</td>\n",
              "      <td>-58.544078</td>\n",
              "      <td>-4.405604e+08</td>\n",
              "      <td>-1.204418e+08</td>\n",
              "      <td>-13.426249</td>\n",
              "      <td>-1.465191</td>\n",
              "      <td>-33.302382</td>\n",
              "      <td>-170.128986</td>\n",
              "      <td>-39.772492</td>\n",
              "      <td>-0.364694</td>\n",
              "      <td>-0.133771</td>\n",
              "      <td>-0.209468</td>\n",
              "      <td>-35.356505</td>\n",
              "      <td>-109.884564</td>\n",
              "      <td>-873.69102</td>\n",
              "      <td>-5.368281</td>\n",
              "      <td>-247.110707</td>\n",
              "      <td>-108.409742</td>\n",
              "      <td>-509.437331</td>\n",
              "      <td>7385.382022</td>\n",
              "      <td>-17.295406</td>\n",
              "      <td>-943.373846</td>\n",
              "      <td>-613.770792</td>\n",
              "      <td>-25.996269</td>\n",
              "      <td>-26.630448</td>\n",
              "      <td>106.252276</td>\n",
              "      <td>-25.832889</td>\n",
              "      <td>-0.694428</td>\n",
              "      <td>-12.175933</td>\n",
              "      <td>-0.45614</td>\n",
              "      <td>0.0</td>\n",
              "    </tr>\n",
              "    <tr>\n",
              "      <th>2</th>\n",
              "      <td>2</td>\n",
              "      <td>151</td>\n",
              "      <td>2.0</td>\n",
              "      <td>1547413200</td>\n",
              "      <td>145</td>\n",
              "      <td>1547413200</td>\n",
              "      <td>-20.989971</td>\n",
              "      <td>-147.029112</td>\n",
              "      <td>-34.930786</td>\n",
              "      <td>-199.636798</td>\n",
              "      <td>-40.348246</td>\n",
              "      <td>-220.74179</td>\n",
              "      <td>-16.08618</td>\n",
              "      <td>-65.076097</td>\n",
              "      <td>-6.78366</td>\n",
              "      <td>-30.006538</td>\n",
              "      <td>-2.736081</td>\n",
              "      <td>-4.007526</td>\n",
              "      <td>-2.558912</td>\n",
              "      <td>9.620873</td>\n",
              "      <td>-1.70811</td>\n",
              "      <td>-0.000725</td>\n",
              "      <td>-0.016435</td>\n",
              "      <td>-0.107041</td>\n",
              "      <td>-5.41746</td>\n",
              "      <td>-3.178521</td>\n",
              "      <td>-13.940815</td>\n",
              "      <td>-10.744164</td>\n",
              "      <td>-0.094251</td>\n",
              "      <td>-0.001733</td>\n",
              "      <td>-0.009327</td>\n",
              "      <td>-2.082209</td>\n",
              "      <td>0.200138</td>\n",
              "      <td>-0.00909</td>\n",
              "      <td>-0.351862</td>\n",
              "      <td>-0.214366</td>\n",
              "      <td>-0.211608</td>\n",
              "      <td>-0.001884</td>\n",
              "      <td>-0.000023</td>\n",
              "      <td>-0.00003</td>\n",
              "      <td>...</td>\n",
              "      <td>-42051.166127</td>\n",
              "      <td>-9239.707081</td>\n",
              "      <td>-2.10805</td>\n",
              "      <td>-0.000083</td>\n",
              "      <td>-0.622896</td>\n",
              "      <td>-0.00004</td>\n",
              "      <td>-0.620772</td>\n",
              "      <td>-0.012257</td>\n",
              "      <td>-0.107878</td>\n",
              "      <td>9.752621e+08</td>\n",
              "      <td>-47.714078</td>\n",
              "      <td>-4.405604e+08</td>\n",
              "      <td>1.357031e+09</td>\n",
              "      <td>-7.225668</td>\n",
              "      <td>-1.465191</td>\n",
              "      <td>-33.302382</td>\n",
              "      <td>407.871014</td>\n",
              "      <td>-34.772492</td>\n",
              "      <td>-0.364694</td>\n",
              "      <td>-0.133771</td>\n",
              "      <td>-0.209468</td>\n",
              "      <td>-35.356505</td>\n",
              "      <td>-109.884564</td>\n",
              "      <td>2771.30898</td>\n",
              "      <td>-1.368281</td>\n",
              "      <td>1042.889293</td>\n",
              "      <td>-108.409742</td>\n",
              "      <td>1841.562669</td>\n",
              "      <td>-94.617978</td>\n",
              "      <td>-17.295406</td>\n",
              "      <td>-940.373846</td>\n",
              "      <td>-605.770792</td>\n",
              "      <td>-13.996269</td>\n",
              "      <td>-37.630448</td>\n",
              "      <td>-158.747724</td>\n",
              "      <td>109.167111</td>\n",
              "      <td>-0.694428</td>\n",
              "      <td>-12.175933</td>\n",
              "      <td>-0.45614</td>\n",
              "      <td>0.0</td>\n",
              "    </tr>\n",
              "    <tr>\n",
              "      <th>3</th>\n",
              "      <td>3</td>\n",
              "      <td>274</td>\n",
              "      <td>2.0</td>\n",
              "      <td>1547413200</td>\n",
              "      <td>265</td>\n",
              "      <td>1537736400</td>\n",
              "      <td>-52.279971</td>\n",
              "      <td>-26.709112</td>\n",
              "      <td>-66.220786</td>\n",
              "      <td>-79.316798</td>\n",
              "      <td>-71.638246</td>\n",
              "      <td>-100.42179</td>\n",
              "      <td>-16.08618</td>\n",
              "      <td>138.313903</td>\n",
              "      <td>-6.78366</td>\n",
              "      <td>-30.006538</td>\n",
              "      <td>-2.736081</td>\n",
              "      <td>-4.007526</td>\n",
              "      <td>-2.558912</td>\n",
              "      <td>-21.669127</td>\n",
              "      <td>-32.99811</td>\n",
              "      <td>-0.000725</td>\n",
              "      <td>-0.016435</td>\n",
              "      <td>-0.107041</td>\n",
              "      <td>-5.41746</td>\n",
              "      <td>-3.178521</td>\n",
              "      <td>-13.940815</td>\n",
              "      <td>-10.744164</td>\n",
              "      <td>-0.094251</td>\n",
              "      <td>-0.001733</td>\n",
              "      <td>-0.009327</td>\n",
              "      <td>-2.082209</td>\n",
              "      <td>0.200138</td>\n",
              "      <td>-0.00909</td>\n",
              "      <td>-0.351862</td>\n",
              "      <td>-0.214366</td>\n",
              "      <td>-0.211608</td>\n",
              "      <td>-0.001884</td>\n",
              "      <td>-0.000023</td>\n",
              "      <td>-0.00003</td>\n",
              "      <td>...</td>\n",
              "      <td>-42051.166127</td>\n",
              "      <td>-9239.707081</td>\n",
              "      <td>-2.10805</td>\n",
              "      <td>-0.000083</td>\n",
              "      <td>0.377104</td>\n",
              "      <td>-0.00004</td>\n",
              "      <td>0.379228</td>\n",
              "      <td>-0.012257</td>\n",
              "      <td>-0.107878</td>\n",
              "      <td>9.655853e+08</td>\n",
              "      <td>-52.184078</td>\n",
              "      <td>9.697523e+08</td>\n",
              "      <td>-1.204418e+08</td>\n",
              "      <td>-4.350668</td>\n",
              "      <td>-1.465191</td>\n",
              "      <td>-33.302382</td>\n",
              "      <td>-141.128986</td>\n",
              "      <td>-37.772492</td>\n",
              "      <td>-0.364694</td>\n",
              "      <td>-0.133771</td>\n",
              "      <td>-0.209468</td>\n",
              "      <td>-33.356505</td>\n",
              "      <td>-109.884564</td>\n",
              "      <td>-78.69102</td>\n",
              "      <td>-1.368281</td>\n",
              "      <td>122.889293</td>\n",
              "      <td>-108.409742</td>\n",
              "      <td>-88.437331</td>\n",
              "      <td>-106.617978</td>\n",
              "      <td>-17.295406</td>\n",
              "      <td>-879.373846</td>\n",
              "      <td>-554.770792</td>\n",
              "      <td>-21.996269</td>\n",
              "      <td>-37.630448</td>\n",
              "      <td>16.252276</td>\n",
              "      <td>-17.832889</td>\n",
              "      <td>-0.694428</td>\n",
              "      <td>-4.175933</td>\n",
              "      <td>-0.45614</td>\n",
              "      <td>1.0</td>\n",
              "    </tr>\n",
              "    <tr>\n",
              "      <th>4</th>\n",
              "      <td>4</td>\n",
              "      <td>274</td>\n",
              "      <td>4.0</td>\n",
              "      <td>1548018000</td>\n",
              "      <td>265</td>\n",
              "      <td>1537736400</td>\n",
              "      <td>-52.279971</td>\n",
              "      <td>-26.709112</td>\n",
              "      <td>-66.220786</td>\n",
              "      <td>-79.316798</td>\n",
              "      <td>-71.638246</td>\n",
              "      <td>-100.42179</td>\n",
              "      <td>-16.08618</td>\n",
              "      <td>138.313903</td>\n",
              "      <td>-6.78366</td>\n",
              "      <td>-30.006538</td>\n",
              "      <td>-2.736081</td>\n",
              "      <td>-4.007526</td>\n",
              "      <td>-2.558912</td>\n",
              "      <td>-21.669127</td>\n",
              "      <td>-32.99811</td>\n",
              "      <td>-0.000725</td>\n",
              "      <td>-0.016435</td>\n",
              "      <td>-0.107041</td>\n",
              "      <td>-5.41746</td>\n",
              "      <td>-3.178521</td>\n",
              "      <td>-13.940815</td>\n",
              "      <td>-10.744164</td>\n",
              "      <td>-0.094251</td>\n",
              "      <td>-0.001733</td>\n",
              "      <td>-0.009327</td>\n",
              "      <td>-2.082209</td>\n",
              "      <td>0.200138</td>\n",
              "      <td>-0.00909</td>\n",
              "      <td>-0.351862</td>\n",
              "      <td>-0.214366</td>\n",
              "      <td>-0.211608</td>\n",
              "      <td>-0.001884</td>\n",
              "      <td>-0.000023</td>\n",
              "      <td>-0.00003</td>\n",
              "      <td>...</td>\n",
              "      <td>-42051.166127</td>\n",
              "      <td>-9239.707081</td>\n",
              "      <td>-2.10805</td>\n",
              "      <td>-0.000083</td>\n",
              "      <td>0.377104</td>\n",
              "      <td>-0.00004</td>\n",
              "      <td>0.379228</td>\n",
              "      <td>-0.012257</td>\n",
              "      <td>-0.107878</td>\n",
              "      <td>9.655853e+08</td>\n",
              "      <td>-52.184078</td>\n",
              "      <td>9.697523e+08</td>\n",
              "      <td>-1.204418e+08</td>\n",
              "      <td>-4.350668</td>\n",
              "      <td>-1.465191</td>\n",
              "      <td>-33.302382</td>\n",
              "      <td>-141.128986</td>\n",
              "      <td>-37.772492</td>\n",
              "      <td>-0.364694</td>\n",
              "      <td>-0.133771</td>\n",
              "      <td>-0.209468</td>\n",
              "      <td>-33.356505</td>\n",
              "      <td>-109.884564</td>\n",
              "      <td>-78.69102</td>\n",
              "      <td>-1.368281</td>\n",
              "      <td>122.889293</td>\n",
              "      <td>-108.409742</td>\n",
              "      <td>-88.437331</td>\n",
              "      <td>-106.617978</td>\n",
              "      <td>-17.295406</td>\n",
              "      <td>-879.373846</td>\n",
              "      <td>-554.770792</td>\n",
              "      <td>-21.996269</td>\n",
              "      <td>-37.630448</td>\n",
              "      <td>16.252276</td>\n",
              "      <td>-17.832889</td>\n",
              "      <td>-0.694428</td>\n",
              "      <td>-4.175933</td>\n",
              "      <td>-0.45614</td>\n",
              "      <td>1.0</td>\n",
              "    </tr>\n",
              "  </tbody>\n",
              "</table>\n",
              "<p>5 rows × 259 columns</p>\n",
              "</div>\n",
              "      <button class=\"colab-df-convert\" onclick=\"convertToInteractive('df-34d314ab-2fec-40d3-8116-e8e2a7ea2557')\"\n",
              "              title=\"Convert this dataframe to an interactive table.\"\n",
              "              style=\"display:none;\">\n",
              "        \n",
              "  <svg xmlns=\"http://www.w3.org/2000/svg\" height=\"24px\"viewBox=\"0 0 24 24\"\n",
              "       width=\"24px\">\n",
              "    <path d=\"M0 0h24v24H0V0z\" fill=\"none\"/>\n",
              "    <path d=\"M18.56 5.44l.94 2.06.94-2.06 2.06-.94-2.06-.94-.94-2.06-.94 2.06-2.06.94zm-11 1L8.5 8.5l.94-2.06 2.06-.94-2.06-.94L8.5 2.5l-.94 2.06-2.06.94zm10 10l.94 2.06.94-2.06 2.06-.94-2.06-.94-.94-2.06-.94 2.06-2.06.94z\"/><path d=\"M17.41 7.96l-1.37-1.37c-.4-.4-.92-.59-1.43-.59-.52 0-1.04.2-1.43.59L10.3 9.45l-7.72 7.72c-.78.78-.78 2.05 0 2.83L4 21.41c.39.39.9.59 1.41.59.51 0 1.02-.2 1.41-.59l7.78-7.78 2.81-2.81c.8-.78.8-2.07 0-2.86zM5.41 20L4 18.59l7.72-7.72 1.47 1.35L5.41 20z\"/>\n",
              "  </svg>\n",
              "      </button>\n",
              "      \n",
              "  <style>\n",
              "    .colab-df-container {\n",
              "      display:flex;\n",
              "      flex-wrap:wrap;\n",
              "      gap: 12px;\n",
              "    }\n",
              "\n",
              "    .colab-df-convert {\n",
              "      background-color: #E8F0FE;\n",
              "      border: none;\n",
              "      border-radius: 50%;\n",
              "      cursor: pointer;\n",
              "      display: none;\n",
              "      fill: #1967D2;\n",
              "      height: 32px;\n",
              "      padding: 0 0 0 0;\n",
              "      width: 32px;\n",
              "    }\n",
              "\n",
              "    .colab-df-convert:hover {\n",
              "      background-color: #E2EBFA;\n",
              "      box-shadow: 0px 1px 2px rgba(60, 64, 67, 0.3), 0px 1px 3px 1px rgba(60, 64, 67, 0.15);\n",
              "      fill: #174EA6;\n",
              "    }\n",
              "\n",
              "    [theme=dark] .colab-df-convert {\n",
              "      background-color: #3B4455;\n",
              "      fill: #D2E3FC;\n",
              "    }\n",
              "\n",
              "    [theme=dark] .colab-df-convert:hover {\n",
              "      background-color: #434B5C;\n",
              "      box-shadow: 0px 1px 3px 1px rgba(0, 0, 0, 0.15);\n",
              "      filter: drop-shadow(0px 1px 2px rgba(0, 0, 0, 0.3));\n",
              "      fill: #FFFFFF;\n",
              "    }\n",
              "  </style>\n",
              "\n",
              "      <script>\n",
              "        const buttonEl =\n",
              "          document.querySelector('#df-34d314ab-2fec-40d3-8116-e8e2a7ea2557 button.colab-df-convert');\n",
              "        buttonEl.style.display =\n",
              "          google.colab.kernel.accessAllowed ? 'block' : 'none';\n",
              "\n",
              "        async function convertToInteractive(key) {\n",
              "          const element = document.querySelector('#df-34d314ab-2fec-40d3-8116-e8e2a7ea2557');\n",
              "          const dataTable =\n",
              "            await google.colab.kernel.invokeFunction('convertToInteractive',\n",
              "                                                     [key], {});\n",
              "          if (!dataTable) return;\n",
              "\n",
              "          const docLinkHtml = 'Like what you see? Visit the ' +\n",
              "            '<a target=\"_blank\" href=https://colab.research.google.com/notebooks/data_table.ipynb>data table notebook</a>'\n",
              "            + ' to learn more about interactive tables.';\n",
              "          element.innerHTML = '';\n",
              "          dataTable['output_type'] = 'display_data';\n",
              "          await google.colab.output.renderOutput(dataTable, element);\n",
              "          const docLink = document.createElement('div');\n",
              "          docLink.innerHTML = docLinkHtml;\n",
              "          element.appendChild(docLink);\n",
              "        }\n",
              "      </script>\n",
              "    </div>\n",
              "  </div>\n",
              "  "
            ],
            "text/plain": [
              "   Unnamed: 0   id  vas_id    buy_time  ...       249        250      251  252\n",
              "0           0   55     2.0  1547413200  ... -0.694428 -12.175933 -0.45614  1.0\n",
              "1           1   64     4.0  1548018000  ... -0.694428 -12.175933 -0.45614  0.0\n",
              "2           2  151     2.0  1547413200  ... -0.694428 -12.175933 -0.45614  0.0\n",
              "3           3  274     2.0  1547413200  ... -0.694428  -4.175933 -0.45614  1.0\n",
              "4           4  274     4.0  1548018000  ... -0.694428  -4.175933 -0.45614  1.0\n",
              "\n",
              "[5 rows x 259 columns]"
            ]
          },
          "metadata": {},
          "execution_count": 10
        }
      ],
      "source": [
        "data_test.head()"
      ]
    },
    {
      "cell_type": "code",
      "execution_count": 11,
      "metadata": {
        "id": "6F38SBW3zgRO"
      },
      "outputs": [],
      "source": [
        "data_test = data_test.set_index('Unnamed: 0')"
      ]
    },
    {
      "cell_type": "code",
      "execution_count": 12,
      "metadata": {
        "id": "jCPh-DSeHJMP"
      },
      "outputs": [],
      "source": [
        "# Разделим признаки и целевую переменную\n",
        "data_prelim = data_train.copy()\n",
        "\n",
        "X = data_prelim.drop('target', axis=1)\n",
        "y = data_prelim['target']"
      ]
    },
    {
      "cell_type": "markdown",
      "metadata": {
        "id": "EOB643JpHJMQ"
      },
      "source": [
        " "
      ]
    },
    {
      "cell_type": "code",
      "execution_count": 13,
      "metadata": {
        "id": "rHsYgSlYHJMR",
        "colab": {
          "base_uri": "https://localhost:8080/"
        },
        "outputId": "9404183e-8ec4-4027-94a4-33e5af8e38d6"
      },
      "outputs": [
        {
          "output_type": "stream",
          "name": "stdout",
          "text": [
            "ID уникален?  True\n",
            "Есть ли дубли в строках? 0\n",
            "Сколько процент признаков могут принимать null-значениями? 0%\n"
          ]
        }
      ],
      "source": [
        "print(\"ID уникален? \", X.index.is_unique)\n",
        "print(\"Есть ли дубли в строках?\", X.duplicated().sum())\n",
        "print(\"Сколько процент признаков могут принимать null-значениями? %d%%\" % float((X.isnull().sum() > 0).sum()/X.shape[1]*100))"
      ]
    },
    {
      "cell_type": "markdown",
      "metadata": {
        "id": "ocA4px1THJMT"
      },
      "source": [
        "**У признаков нет пропущенных значений**"
      ]
    },
    {
      "cell_type": "markdown",
      "metadata": {
        "id": "RvtQ0-pzHJMT"
      },
      "source": [
        " "
      ]
    },
    {
      "cell_type": "markdown",
      "metadata": {
        "id": "VLnOeIMvHJMU"
      },
      "source": [
        "### 1.2 Смотрим на train и test"
      ]
    },
    {
      "cell_type": "code",
      "execution_count": 14,
      "metadata": {
        "colab": {
          "base_uri": "https://localhost:8080/",
          "height": 339
        },
        "id": "aVCfBjTwHJMV",
        "outputId": "aae7ce8e-8789-43a9-8a16-40a60beb7b1f"
      },
      "outputs": [
        {
          "output_type": "execute_result",
          "data": {
            "text/plain": [
              "0.0    0.927631\n",
              "1.0    0.072369\n",
              "Name: target, dtype: float64"
            ]
          },
          "metadata": {},
          "execution_count": 14
        },
        {
          "output_type": "display_data",
          "data": {
            "image/png": "[encoded data removed]",
            "text/plain": [
              "<Figure size 432x288 with 1 Axes>"
            ]
          },
          "metadata": {}
        }
      ],
      "source": [
        "(y.value_counts()/y.shape[0]).plot(kind='bar', title='Распределение целевой переменной');\n",
        "y.value_counts()/y.shape"
      ]
    },
    {
      "cell_type": "code",
      "execution_count": 15,
      "metadata": {
        "colab": {
          "base_uri": "https://localhost:8080/"
        },
        "id": "LB67vtZQHJMW",
        "outputId": "f0a9e6b6-4fd9-41f1-d66c-19fd9060e3e9"
      },
      "outputs": [
        {
          "output_type": "stream",
          "name": "stdout",
          "text": [
            "Train\n",
            "0.0    0.927652\n",
            "1.0    0.072348\n",
            "Name: target, dtype: float64\n",
            "\n",
            "Test\n",
            "0.0    0.927566\n",
            "1.0    0.072434\n",
            "Name: target, dtype: float64\n"
          ]
        }
      ],
      "source": [
        "from sklearn.model_selection import train_test_split\n",
        "\n",
        "# Зафиксируем значение random_state для воспроизводимости результатов.\n",
        "RANDOM_STATE = 888\n",
        "\n",
        "train_idx, test_idx = train_test_split(X.index, test_size=0.25, random_state=RANDOM_STATE)\n",
        "\n",
        "y_train, y_test = y.loc[train_idx], y.loc[test_idx]\n",
        "X_train, X_test = X.loc[train_idx], X.loc[test_idx]\n",
        "\n",
        "print(\"Train\")\n",
        "print(y.loc[train_idx].value_counts()/train_idx.shape[0])\n",
        "print()\n",
        "print(\"Test\")\n",
        "print(y.loc[test_idx].value_counts()/test_idx.shape[0])"
      ]
    },
    {
      "cell_type": "markdown",
      "metadata": {
        "id": "A6BkmECsHJMY"
      },
      "source": [
        " "
      ]
    },
    {
      "cell_type": "markdown",
      "metadata": {
        "id": "0OYYGG9cHJMZ"
      },
      "source": [
        "### 1.3 Pipeline для baseline модели"
      ]
    },
    {
      "cell_type": "code",
      "source": [
        "from sklearn.pipeline import Pipeline"
      ],
      "metadata": {
        "id": "Le4nZkerMfBB"
      },
      "execution_count": 16,
      "outputs": []
    },
    {
      "cell_type": "markdown",
      "metadata": {
        "id": "8snjrp5uHJMa"
      },
      "source": [
        "Для построения baseline модели будем использовать логистическую регрессию."
      ]
    },
    {
      "cell_type": "code",
      "execution_count": 17,
      "metadata": {
        "id": "nw1YY7DGHJMa"
      },
      "outputs": [],
      "source": [
        "from sklearn.linear_model import LogisticRegression\n",
        "\n",
        "step_log_reg = ('log_reg', LogisticRegression(random_state=RANDOM_STATE, n_jobs=-1))"
      ]
    },
    {
      "cell_type": "markdown",
      "metadata": {
        "id": "6KvWcQzlHJMj"
      },
      "source": [
        " "
      ]
    },
    {
      "cell_type": "markdown",
      "metadata": {
        "id": "2-HtzTOtHJMk"
      },
      "source": [
        "Базовый пайплайн будет состоять только из одного шага:\n",
        "- Логистическая регрессия с базовыми параметрами"
      ]
    },
    {
      "cell_type": "code",
      "execution_count": 18,
      "metadata": {
        "id": "L4xlEV3UHJMl"
      },
      "outputs": [],
      "source": [
        "\n",
        "bl_estimator = Pipeline([\n",
        "    step_log_reg\n",
        "])"
      ]
    },
    {
      "cell_type": "markdown",
      "metadata": {
        "id": "_x2XreKSHJMm"
      },
      "source": [
        " "
      ]
    },
    {
      "cell_type": "markdown",
      "metadata": {
        "id": "atnQ-6D0HJMm"
      },
      "source": [
        "### 1.4 Кросс-валидация"
      ]
    },
    {
      "cell_type": "markdown",
      "metadata": {
        "id": "DYXrwAaoHJMn"
      },
      "source": [
        "Для оценки качества модели будем использовать кросс-валидацию по 3-ем фолдам."
      ]
    },
    {
      "cell_type": "markdown",
      "metadata": {
        "id": "gup2iGsCHJMn"
      },
      "source": [
        "* Folds: 1 2 3\n",
        "    * Train: 1,2 Val: 3\n",
        "    * Train: 1,3 Val: 2\n",
        "    * Train: 2,3 Val: 1\n",
        "\n",
        "https://scikit-learn.org/stable/modules/model_evaluation.html#scoring-parameter\n",
        "\n",
        "Варианты:\n",
        "- ‘precision’, ‘recall’, ‘accuracy’, ‘f1’\n",
        "- ‘average_precision’, ‘roc_auc’"
      ]
    },
    {
      "cell_type": "code",
      "source": [
        "from sklearn.model_selection import KFold\n",
        "from sklearn.model_selection import cross_validate"
      ],
      "metadata": {
        "id": "FQ0VhvLtMmdS"
      },
      "execution_count": 19,
      "outputs": []
    },
    {
      "cell_type": "code",
      "execution_count": 20,
      "metadata": {
        "id": "ULBoKIJLHJMp"
      },
      "outputs": [],
      "source": [
        "\n",
        "kfold_cv = KFold(n_splits=3, shuffle=True, random_state=RANDOM_STATE)\n",
        "\n",
        "def run_cv(estimator, cv, X, y, scoring='roc_auc', model_name=\"\"):\n",
        "    cv_res = cross_validate(estimator, X, y, cv=cv, scoring=scoring, n_jobs=-1)\n",
        "    \n",
        "    print(\"%s: %s = %0.2f (+/- %0.2f)\" % (model_name,\n",
        "                                         scoring,\n",
        "                                         cv_res['test_score'].mean(),\n",
        "                                         cv_res['test_score'].std() * 2))"
      ]
    },
    {
      "cell_type": "markdown",
      "metadata": {
        "id": "9KiRnJrmHJMq"
      },
      "source": [
        "Посмотрим на значение метрики на кросс-валидации, оно понадобится для сравнения с последующими моделями."
      ]
    },
    {
      "cell_type": "code",
      "execution_count": 21,
      "metadata": {
        "colab": {
          "base_uri": "https://localhost:8080/"
        },
        "id": "nqZzBD7JHJMr",
        "outputId": "c1ad4ba8-c67b-4347-f20c-f69d2c4c0081"
      },
      "outputs": [
        {
          "output_type": "stream",
          "name": "stdout",
          "text": [
            "Baseline: roc_auc = 0.63 (+/- 0.00)\n"
          ]
        }
      ],
      "source": [
        "run_cv(bl_estimator, kfold_cv, X_train, y_train, model_name=\"Baseline\");"
      ]
    },
    {
      "cell_type": "markdown",
      "metadata": {
        "id": "2aowcEeDHJMy"
      },
      "source": [
        "### 1.5 Графики и метрики baseline модели на тесте"
      ]
    },
    {
      "cell_type": "code",
      "execution_count": 22,
      "metadata": {
        "id": "oVijZHkZHJMz"
      },
      "outputs": [],
      "source": [
        "bl_estimator.fit(X_train, y_train)\n",
        "\n",
        "bl_y_pred = bl_estimator.predict_proba(X_test)[:,1]"
      ]
    },
    {
      "cell_type": "markdown",
      "metadata": {
        "id": "wsVXBtwOHJMz"
      },
      "source": [
        "#### Распределение предсказаний baseline модели"
      ]
    },
    {
      "cell_type": "code",
      "execution_count": 23,
      "metadata": {
        "id": "5QewxkdoHJM0",
        "colab": {
          "base_uri": "https://localhost:8080/",
          "height": 282
        },
        "outputId": "43a638b3-b2cd-455e-aeb8-eadfb0c23485"
      },
      "outputs": [
        {
          "output_type": "display_data",
          "data": {
            "image/png": "[encoded data removed]",
            "text/plain": [
              "<Figure size 432x288 with 1 Axes>"
            ]
          },
          "metadata": {}
        }
      ],
      "source": [
        "plt.title(\"Baseline: распределение предсказаний модели\")\n",
        "plt.hist(bl_y_pred[~y_test.astype(bool)], bins=100, color='r', alpha=0.7);\n",
        "plt.hist(bl_y_pred[y_test.astype(bool)], bins=100, color='b', alpha=0.7);"
      ]
    },
    {
      "cell_type": "markdown",
      "metadata": {
        "id": "l1hFPpEfHJM1"
      },
      "source": [
        "#### Roc и PR Кривые"
      ]
    },
    {
      "cell_type": "code",
      "execution_count": 24,
      "metadata": {
        "id": "VZ--zJDpHJM1"
      },
      "outputs": [],
      "source": [
        "from sklearn.metrics import precision_recall_curve, roc_curve, auc\n"
      ]
    },
    {
      "cell_type": "code",
      "source": [
        "fpr, tpr, roc_thresholds = roc_curve(y_test, bl_y_pred)\n",
        "precision, recall, pr_thresholds = precision_recall_curve(y_test, bl_y_pred)"
      ],
      "metadata": {
        "id": "StsduZ8nMzJl"
      },
      "execution_count": 25,
      "outputs": []
    },
    {
      "cell_type": "code",
      "execution_count": 26,
      "metadata": {
        "id": "pxv-lAwRHJM2",
        "colab": {
          "base_uri": "https://localhost:8080/",
          "height": 479
        },
        "outputId": "1fe3d224-a42f-420a-cd20-8e807b29abc0"
      },
      "outputs": [
        {
          "output_type": "stream",
          "name": "stdout",
          "text": [
            "Baseline: AUC_ROC = 0.626\n"
          ]
        },
        {
          "output_type": "display_data",
          "data": {
            "image/png": "[encoded data removed]",
            "text/plain": [
              "<Figure size 504x504 with 1 Axes>"
            ]
          },
          "metadata": {}
        }
      ],
      "source": [
        "def plot_roc_curve(fpr, tpr, model_name=\"\", color=None):\n",
        "    plt.plot(fpr, tpr, label='%s: ROC curve (area = %0.2f)' %\n",
        "             (model_name, auc(fpr, tpr)), color=color)\n",
        "    plt.plot([0, 1], [0, 1], 'k--')\n",
        "    plt.axis([0.0, 1.0, 0.0, 1.05])\n",
        "    plt.xlabel('False Positive Rate')\n",
        "    plt.ylabel('True Positive Rate')\n",
        "    plt.title('%s: Receiver operating characteristic curve' % model_name)\n",
        "    plt.legend(loc=\"lower right\")\n",
        "\n",
        "plt.figure(figsize=(7, 7))\n",
        "plot_roc_curve(fpr, tpr, \"Baseline\", color='r')\n",
        "print(\"Baseline: AUC_ROC = %.3f\" % auc(fpr, tpr))"
      ]
    },
    {
      "cell_type": "code",
      "execution_count": 27,
      "metadata": {
        "id": "Zgan7hWPHJM5",
        "colab": {
          "base_uri": "https://localhost:8080/",
          "height": 479
        },
        "outputId": "69279cc9-ceec-4c3b-ddf1-a372a56c37b1"
      },
      "outputs": [
        {
          "output_type": "stream",
          "name": "stdout",
          "text": [
            "Baseline: AUC_PR = 0.106\n"
          ]
        },
        {
          "output_type": "display_data",
          "data": {
            "image/png": "[encoded data removed]",
            "text/plain": [
              "<Figure size 504x504 with 1 Axes>"
            ]
          },
          "metadata": {}
        }
      ],
      "source": [
        "def plot_precision_recall_curve(recall, precision, model_name=\"\", color=None):\n",
        "    plt.plot(recall, precision, label='%s: Precision-Recall curve (area = %0.2f)' %\n",
        "             (model_name, auc(recall, precision)), color=color)\n",
        "    plt.xlabel('Recall')\n",
        "    plt.ylabel('Precision')\n",
        "    plt.title(\"%s: Precision-Recall curve\" % model_name)\n",
        "    plt.axis([0.0, 1.0, 0.0, 1.05])\n",
        "    plt.legend(loc=\"lower left\")\n",
        "\n",
        "plt.figure(figsize=(7, 7))\n",
        "    \n",
        "plot_precision_recall_curve(recall, precision, \"Baseline\", color='r')\n",
        "print(\"Baseline: AUC_PR = %.3f\" % auc(recall, precision))"
      ]
    },
    {
      "cell_type": "code",
      "execution_count": 28,
      "metadata": {
        "id": "TOS5LsVxHJM7",
        "colab": {
          "base_uri": "https://localhost:8080/",
          "height": 333
        },
        "outputId": "418f2b4c-f4b6-48d3-e8c4-4e4cad0c17f9"
      },
      "outputs": [
        {
          "output_type": "stream",
          "name": "stdout",
          "text": [
            "Максимальную точность при этом: 0.089\n",
            "При каком пороге: 0.055\n"
          ]
        },
        {
          "output_type": "display_data",
          "data": {
            "image/png": "[encoded data removed]",
            "text/plain": [
              "<Figure size 432x288 with 1 Axes>"
            ]
          },
          "metadata": {}
        }
      ],
      "source": [
        "re80_mask = recall >= 0.8\n",
        "pr_target_idx = np.arange(len(precision))[re80_mask]\n",
        "pr_target = precision[re80_mask]\n",
        "\n",
        "max_pr_idx = pr_target_idx[np.argmax(pr_target)]\n",
        "\n",
        "\n",
        "print(\"Максимальную точность при этом: %.3f\" % precision[max_pr_idx])\n",
        "threshold80 = pr_thresholds[max_pr_idx]\n",
        "print (\"При каком пороге: %.3f\" % threshold80)\n",
        "\n",
        "plot_precision_recall_curve(recall[re80_mask], precision[re80_mask], color='r')"
      ]
    },
    {
      "cell_type": "markdown",
      "metadata": {
        "id": "Vkraeg8BHJM9"
      },
      "source": [
        "#### Матрица смежности"
      ]
    },
    {
      "cell_type": "code",
      "execution_count": 29,
      "metadata": {
        "id": "T873w4IBHJM9"
      },
      "outputs": [],
      "source": [
        "import itertools\n",
        "from sklearn.metrics import confusion_matrix\n",
        "\n",
        "def plot_confusion_matrix(cm, classes,\n",
        "                          model_name=\"\",\n",
        "                          normalize=False,\n",
        "                          cmap=plt.cm.Blues):\n",
        "    \"\"\"\n",
        "    This function prints and plots the confusion matrix.\n",
        "    Normalization can be applied by setting `normalize=True`.\n",
        "    \"\"\"\n",
        "    if normalize:\n",
        "        cm = cm.astype('float') / cm.sum(axis=1)[:, np.newaxis]\n",
        "        print(\"Normalized confusion matrix\")\n",
        "    else:\n",
        "        print('Confusion matrix, without normalization')\n",
        "\n",
        "    print(cm)\n",
        "\n",
        "    plt.imshow(cm, interpolation='nearest',  cmap=cmap)\n",
        "    \n",
        "    plt.grid(False)\n",
        "    plt.title('%s: confusion matrix' % model_name)\n",
        "    tick_marks = np.arange(len(classes))\n",
        "    plt.xticks(tick_marks, classes, rotation=45)\n",
        "    plt.yticks(tick_marks, classes)\n",
        "\n",
        "    fmt = '.2f' if normalize else 'd'\n",
        "    thresh = cm.max() / 2.\n",
        "    for i, j in itertools.product(range(cm.shape[0]), range(cm.shape[1])):\n",
        "        plt.text(j, i, format(cm[i, j], fmt),\n",
        "                 horizontalalignment=\"center\",\n",
        "                 color=\"white\" if cm[i, j] > thresh else \"black\")\n",
        "\n",
        "    plt.ylabel('True label')\n",
        "    plt.xlabel('Predicted label')\n",
        "    plt.tight_layout()"
      ]
    },
    {
      "cell_type": "code",
      "execution_count": 30,
      "metadata": {
        "id": "Gg4DNtL6HJM_",
        "colab": {
          "base_uri": "https://localhost:8080/",
          "height": 348
        },
        "outputId": "7e7a965c-73de-45e6-91fd-c57092dac369"
      },
      "outputs": [
        {
          "output_type": "stream",
          "name": "stdout",
          "text": [
            "Confusion matrix, without normalization\n",
            "[[192854      0]\n",
            " [ 15060      0]]\n"
          ]
        },
        {
          "output_type": "display_data",
          "data": {
            "image/png": "[encoded data removed]",
            "text/plain": [
              "<Figure size 432x288 with 1 Axes>"
            ]
          },
          "metadata": {}
        }
      ],
      "source": [
        "# TN                FP(Type II error)\n",
        "# \n",
        "# FN(Type I error)  TP\n",
        "\n",
        "cm = confusion_matrix(y_test, bl_y_pred > 0.5)\n",
        "plot_confusion_matrix(cm, classes=[\"0\", \"1\"], model_name=\"Baseline\");"
      ]
    },
    {
      "cell_type": "markdown",
      "metadata": {
        "id": "uiM6jr8zHJNA"
      },
      "source": [
        "#### classification_report"
      ]
    },
    {
      "cell_type": "code",
      "execution_count": 31,
      "metadata": {
        "id": "WWTxwxzBHJNB"
      },
      "outputs": [],
      "source": [
        "from sklearn.metrics import classification_report"
      ]
    },
    {
      "cell_type": "code",
      "source": [
        "print(classification_report(y_test, bl_y_pred > 0.5))"
      ],
      "metadata": {
        "colab": {
          "base_uri": "https://localhost:8080/"
        },
        "id": "ggf4HiJSM8kb",
        "outputId": "054b8a47-17f2-41e1-9a8b-62c1ec4588ae"
      },
      "execution_count": 32,
      "outputs": [
        {
          "output_type": "stream",
          "name": "stdout",
          "text": [
            "              precision    recall  f1-score   support\n",
            "\n",
            "         0.0       0.93      1.00      0.96    192854\n",
            "         1.0       0.00      0.00      0.00     15060\n",
            "\n",
            "    accuracy                           0.93    207914\n",
            "   macro avg       0.46      0.50      0.48    207914\n",
            "weighted avg       0.86      0.93      0.89    207914\n",
            "\n"
          ]
        }
      ]
    },
    {
      "cell_type": "code",
      "execution_count": 33,
      "metadata": {
        "id": "W2SEx42uHJNC",
        "colab": {
          "base_uri": "https://localhost:8080/"
        },
        "outputId": "95e85b0a-3c61-4a4c-9373-15b8c06a0b04"
      },
      "outputs": [
        {
          "output_type": "stream",
          "name": "stdout",
          "text": [
            "              accuracy = 0.93\n",
            "           1 precision = nan\n",
            "              1 recall = 0.00\n",
            "   micro avg precision = 0.93 \n",
            "   macro avg precision = nan \n",
            "weighted avg precision = nan \n"
          ]
        }
      ],
      "source": [
        "tn, fp, fn, tp = cm.ravel()\n",
        "\n",
        "precision = tp/(fp + tp)\n",
        "recall = tp/(fn + tp)\n",
        "\n",
        "accuracy = (tp + tn)/(fp + fn + tp + tn)\n",
        "\n",
        "micro_avg_pr    = (tn + tp) / (fn + tn + fp + tp)\n",
        "macro_avg_pr    = (tn/(fn + tn) + tp/(fp + tp))/2\n",
        "\n",
        "n_0 = (y_test == 0).sum()\n",
        "n_1 = (y_test == 1).sum()\n",
        "weighted_avg_pr = (n_0*tn/(fn + tn) + n_1*tp/(fp + tp))/(n_0 + n_1)\n",
        "\n",
        "print(\"              accuracy = %.2f\"   % float(accuracy))\n",
        "print(\"           1 precision = %.2f\"   % float(precision))\n",
        "print(\"              1 recall = %.2f\"   % float(recall))\n",
        "print(\"   micro avg precision = %.2f \"  % float(micro_avg_pr))\n",
        "print(\"   macro avg precision = %.2f \"  % float(macro_avg_pr))\n",
        "print(\"weighted avg precision = %.2f \"  % float(weighted_avg_pr))"
      ]
    },
    {
      "cell_type": "markdown",
      "metadata": {
        "id": "dGpHQ9t4HJNE"
      },
      "source": [
        "# 2 Определение типа признаков"
      ]
    },
    {
      "cell_type": "code",
      "execution_count": 49,
      "metadata": {
        "id": "F3a45eUIHJNE"
      },
      "outputs": [],
      "source": [
        "X_nunique = X.apply(lambda x: x.nunique(dropna=False))"
      ]
    },
    {
      "cell_type": "code",
      "execution_count": 50,
      "metadata": {
        "id": "Y1bIRljjHJNF",
        "colab": {
          "base_uri": "https://localhost:8080/"
        },
        "outputId": "e8e5cf30-d385-4562-9abd-93e82cc587ce"
      },
      "outputs": [
        {
          "output_type": "execute_result",
          "data": {
            "text/plain": [
              "(258,)"
            ]
          },
          "metadata": {},
          "execution_count": 50
        }
      ],
      "source": [
        "X_nunique.shape"
      ]
    },
    {
      "cell_type": "code",
      "execution_count": 51,
      "metadata": {
        "id": "DLpIW9wcHJNG",
        "colab": {
          "base_uri": "https://localhost:8080/",
          "height": 337
        },
        "outputId": "5c5bd970-4da9-4060-f264-f24054d9ff18"
      },
      "outputs": [
        {
          "output_type": "display_data",
          "data": {
            "image/png": "[encoded data removed]",
            "text/plain": [
              "<Figure size 720x360 with 1 Axes>"
            ]
          },
          "metadata": {}
        }
      ],
      "source": [
        "plt.title(\"Распределение уникальных значений признаков\");\n",
        "X_nunique.hist(bins=100, figsize=(10, 5));"
      ]
    },
    {
      "cell_type": "code",
      "execution_count": 52,
      "metadata": {
        "id": "Ro5AaPP8HJNH",
        "colab": {
          "base_uri": "https://localhost:8080/"
        },
        "outputId": "6f6ee697-e568-43aa-cfc8-3e4606ac9871"
      },
      "outputs": [
        {
          "output_type": "execute_result",
          "data": {
            "text/plain": [
              "258"
            ]
          },
          "metadata": {},
          "execution_count": 52
        }
      ],
      "source": [
        "f_all = set(X_nunique.index.tolist())\n",
        "len(f_all)"
      ]
    },
    {
      "cell_type": "markdown",
      "metadata": {
        "id": "7fFpRUo-HJNI"
      },
      "source": [
        "#### константные признаки"
      ]
    },
    {
      "cell_type": "code",
      "execution_count": 53,
      "metadata": {
        "id": "_eNNzR8hHJNJ",
        "colab": {
          "base_uri": "https://localhost:8080/"
        },
        "outputId": "22650799-909f-4e2e-9144-96a820724148"
      },
      "outputs": [
        {
          "output_type": "execute_result",
          "data": {
            "text/plain": [
              "5"
            ]
          },
          "metadata": {},
          "execution_count": 53
        }
      ],
      "source": [
        "f_const = set(X_nunique[X_nunique == 1].index.tolist())\n",
        "len(f_const)"
      ]
    },
    {
      "cell_type": "markdown",
      "metadata": {
        "id": "hWe9J4cZHJNK"
      },
      "source": [
        "#### вещественные признаки"
      ]
    },
    {
      "cell_type": "code",
      "execution_count": 54,
      "metadata": {
        "id": "3YdCKvlkHJNK",
        "colab": {
          "base_uri": "https://localhost:8080/"
        },
        "outputId": "00555321-234c-418e-e218-2c621efd3aa6"
      },
      "outputs": [
        {
          "output_type": "execute_result",
          "data": {
            "text/plain": [
              "247"
            ]
          },
          "metadata": {},
          "execution_count": 54
        }
      ],
      "source": [
        "f_numeric = (X.fillna(0).astype(int).sum() - X.fillna(0).sum()).abs()\n",
        "f_numeric = set(f_numeric[f_numeric > 0].index.tolist())\n",
        "len(f_numeric)"
      ]
    },
    {
      "cell_type": "code",
      "execution_count": 55,
      "metadata": {
        "id": "0OEh1mZnHJNM",
        "colab": {
          "base_uri": "https://localhost:8080/"
        },
        "outputId": "7b20f53f-61cb-4115-98b1-53e4ed31dd9e"
      },
      "outputs": [
        {
          "output_type": "execute_result",
          "data": {
            "text/plain": [
              "6"
            ]
          },
          "metadata": {},
          "execution_count": 55
        }
      ],
      "source": [
        "f_other = f_all - (f_numeric | f_const)\n",
        "len(f_other)"
      ]
    },
    {
      "cell_type": "markdown",
      "metadata": {
        "id": "Xo2npf_cHJNO"
      },
      "source": [
        "#### бинарные"
      ]
    },
    {
      "cell_type": "code",
      "execution_count": 56,
      "metadata": {
        "id": "Btici5llHJNP",
        "colab": {
          "base_uri": "https://localhost:8080/"
        },
        "outputId": "c96bbd3c-47e5-4b94-c1cd-2bec96f6cff6"
      },
      "outputs": [
        {
          "output_type": "execute_result",
          "data": {
            "text/plain": [
              "0"
            ]
          },
          "metadata": {},
          "execution_count": 56
        }
      ],
      "source": [
        "f_binary = set(X.loc[:, f_other].columns[(\n",
        "                      (X.loc[:, f_other].max() == 1) & \\\n",
        "                      (X.loc[:, f_other].min() == 0) & \\\n",
        "                      (X.loc[:, f_other].isnull().sum() == 0))])\n",
        "len(f_binary)"
      ]
    },
    {
      "cell_type": "code",
      "execution_count": 57,
      "metadata": {
        "id": "N0NZtLxwHJNQ",
        "colab": {
          "base_uri": "https://localhost:8080/"
        },
        "outputId": "2108ebd0-cd26-4d01-fbdb-5a4200d13aa6"
      },
      "outputs": [
        {
          "output_type": "execute_result",
          "data": {
            "text/plain": [
              "6"
            ]
          },
          "metadata": {},
          "execution_count": 57
        }
      ],
      "source": [
        "f_other = f_other - f_binary\n",
        "len(f_other)"
      ]
    },
    {
      "cell_type": "markdown",
      "metadata": {
        "id": "BTE98dmHHJNR"
      },
      "source": [
        "#### категориальные"
      ]
    },
    {
      "cell_type": "code",
      "execution_count": 58,
      "metadata": {
        "id": "kH6IpGyLHJNS"
      },
      "outputs": [],
      "source": [
        "f_categorical = set(X_nunique.loc[f_other][X_nunique.loc[f_other] <= 10].index.tolist())\n",
        "f_numeric_extra = f_categorical"
      ]
    },
    {
      "cell_type": "code",
      "execution_count": 59,
      "metadata": {
        "id": "COq2df8cHJNT",
        "colab": {
          "base_uri": "https://localhost:8080/"
        },
        "outputId": "95f6d592-3458-46e8-85e2-ee3f2d6c569e"
      },
      "outputs": [
        {
          "output_type": "execute_result",
          "data": {
            "text/plain": [
              "5"
            ]
          },
          "metadata": {},
          "execution_count": 59
        }
      ],
      "source": [
        "f_other = f_other - f_categorical\n",
        "len(f_other)"
      ]
    },
    {
      "cell_type": "code",
      "execution_count": 60,
      "metadata": {
        "id": "b10q87msHJNU"
      },
      "outputs": [],
      "source": [
        "f_numeric = f_numeric | f_other"
      ]
    },
    {
      "cell_type": "code",
      "execution_count": 61,
      "metadata": {
        "id": "szQkYvduHJNU",
        "colab": {
          "base_uri": "https://localhost:8080/"
        },
        "outputId": "e1da527c-f6fc-472b-f7e6-a008e389c542"
      },
      "outputs": [
        {
          "output_type": "execute_result",
          "data": {
            "text/plain": [
              "0"
            ]
          },
          "metadata": {},
          "execution_count": 61
        }
      ],
      "source": [
        "f_other = f_other - f_numeric\n",
        "len(f_other)"
      ]
    },
    {
      "cell_type": "code",
      "execution_count": 62,
      "metadata": {
        "id": "U2Z_MhIAHJNV"
      },
      "outputs": [],
      "source": [
        "assert(X_nunique.shape[0] == len(f_const) + len(f_binary) + len(f_numeric) + len(f_categorical))"
      ]
    },
    {
      "cell_type": "code",
      "execution_count": 63,
      "metadata": {
        "id": "64EL_ocpHJNW",
        "colab": {
          "base_uri": "https://localhost:8080/"
        },
        "outputId": "8e901ac2-d97b-4425-f574-96d7aec44c06"
      },
      "outputs": [
        {
          "output_type": "stream",
          "name": "stdout",
          "text": [
            "f_all: 258\n",
            "\n",
            "f_const: 5\n",
            "f_binary: 0\n",
            "f_categorical: 1\n",
            "f_numeric: 252\n"
          ]
        }
      ],
      "source": [
        "print('f_all:', X.shape[1])\n",
        "print()\n",
        "print('f_const:', len(f_const))\n",
        "print('f_binary:', len(f_binary))\n",
        "print('f_categorical:', len(f_categorical))\n",
        "print('f_numeric:', len(f_numeric))\n",
        "\n",
        "f_ok = list(f_binary | f_categorical | f_numeric)\n",
        "f_binary, f_categorical, f_numeric = list(f_binary), list(f_categorical), list(f_numeric)"
      ]
    },
    {
      "cell_type": "markdown",
      "metadata": {
        "id": "grr64bsuHJNX"
      },
      "source": [
        " "
      ]
    },
    {
      "cell_type": "markdown",
      "metadata": {
        "id": "LCjlwMhDHJNX"
      },
      "source": [
        "# 3 sklearn.Pipeline"
      ]
    },
    {
      "cell_type": "markdown",
      "metadata": {
        "id": "h2IfE5zvHJNY"
      },
      "source": [
        "Pipeline-ы выполняют последовательность transformer-ов и могут завершаться финальным estimator-ом. Все объектов transformer-ы должны иметь два метода - fit и transform. Финальный Estimator должын иметь метод fit."
      ]
    },
    {
      "cell_type": "markdown",
      "metadata": {
        "id": "5RV8ZshzHJNY"
      },
      "source": [
        "### 3.1 Column Selector"
      ]
    },
    {
      "cell_type": "code",
      "execution_count": 64,
      "metadata": {
        "id": "l2WNj6mYHJNZ"
      },
      "outputs": [],
      "source": [
        "from sklearn.base import BaseEstimator, TransformerMixin"
      ]
    },
    {
      "cell_type": "code",
      "execution_count": 65,
      "metadata": {
        "id": "P4wy2pVPHJNa"
      },
      "outputs": [],
      "source": [
        "class ColumnSelector(BaseEstimator, TransformerMixin):\n",
        "    def __init__(self, columns):\n",
        "        self.columns = columns\n",
        "\n",
        "    def fit(self, X, y=None):\n",
        "        return self\n",
        "    \n",
        "    def transform(self, X):\n",
        "        assert isinstance(X, pd.DataFrame)\n",
        "\n",
        "        try:\n",
        "            return X[self.columns]\n",
        "        except KeyError:\n",
        "            cols_error = list(set(self.columns) - set(X.columns))\n",
        "            raise KeyError(\"DataFrame не содердит следующие колонки: %s\" % cols_error)"
      ]
    },
    {
      "cell_type": "code",
      "execution_count": 66,
      "metadata": {
        "id": "E_5UA44NHJNb"
      },
      "outputs": [],
      "source": [
        "cs_pipe = Pipeline([\n",
        "    ('cs', ColumnSelector(columns=f_all)),\n",
        "])"
      ]
    },
    {
      "cell_type": "code",
      "execution_count": 67,
      "metadata": {
        "id": "gDLt_FJfHJNc",
        "colab": {
          "base_uri": "https://localhost:8080/",
          "height": 345
        },
        "outputId": "e7867c23-a06d-48b3-ae87-9cf6ada7a480"
      },
      "outputs": [
        {
          "output_type": "execute_result",
          "data": {
            "text/html": [
              "\n",
              "  <div id=\"df-5d1c598f-c2fa-4893-a800-1889677a5086\">\n",
              "    <div class=\"colab-df-container\">\n",
              "      <div>\n",
              "<style scoped>\n",
              "    .dataframe tbody tr th:only-of-type {\n",
              "        vertical-align: middle;\n",
              "    }\n",
              "\n",
              "    .dataframe tbody tr th {\n",
              "        vertical-align: top;\n",
              "    }\n",
              "\n",
              "    .dataframe thead th {\n",
              "        text-align: right;\n",
              "    }\n",
              "</style>\n",
              "<table border=\"1\" class=\"dataframe\">\n",
              "  <thead>\n",
              "    <tr style=\"text-align: right;\">\n",
              "      <th></th>\n",
              "      <th>213</th>\n",
              "      <th>104</th>\n",
              "      <th>222</th>\n",
              "      <th>161</th>\n",
              "      <th>75</th>\n",
              "      <th>18</th>\n",
              "      <th>194</th>\n",
              "      <th>229</th>\n",
              "      <th>45</th>\n",
              "      <th>122</th>\n",
              "      <th>188</th>\n",
              "      <th>204</th>\n",
              "      <th>65</th>\n",
              "      <th>223</th>\n",
              "      <th>231</th>\n",
              "      <th>221</th>\n",
              "      <th>38</th>\n",
              "      <th>98</th>\n",
              "      <th>id_other</th>\n",
              "      <th>135</th>\n",
              "      <th>171</th>\n",
              "      <th>95</th>\n",
              "      <th>13</th>\n",
              "      <th>182</th>\n",
              "      <th>192</th>\n",
              "      <th>33</th>\n",
              "      <th>118</th>\n",
              "      <th>249</th>\n",
              "      <th>67</th>\n",
              "      <th>106</th>\n",
              "      <th>62</th>\n",
              "      <th>16</th>\n",
              "      <th>197</th>\n",
              "      <th>31</th>\n",
              "      <th>14</th>\n",
              "      <th>155</th>\n",
              "      <th>126</th>\n",
              "      <th>105</th>\n",
              "      <th>195</th>\n",
              "      <th>56</th>\n",
              "      <th>...</th>\n",
              "      <th>30</th>\n",
              "      <th>111</th>\n",
              "      <th>200</th>\n",
              "      <th>51</th>\n",
              "      <th>166</th>\n",
              "      <th>212</th>\n",
              "      <th>201</th>\n",
              "      <th>214</th>\n",
              "      <th>84</th>\n",
              "      <th>156</th>\n",
              "      <th>109</th>\n",
              "      <th>180</th>\n",
              "      <th>170</th>\n",
              "      <th>243</th>\n",
              "      <th>112</th>\n",
              "      <th>240</th>\n",
              "      <th>55</th>\n",
              "      <th>27</th>\n",
              "      <th>137</th>\n",
              "      <th>72</th>\n",
              "      <th>81</th>\n",
              "      <th>148</th>\n",
              "      <th>168</th>\n",
              "      <th>93</th>\n",
              "      <th>184</th>\n",
              "      <th>79</th>\n",
              "      <th>23</th>\n",
              "      <th>185</th>\n",
              "      <th>0</th>\n",
              "      <th>60</th>\n",
              "      <th>179</th>\n",
              "      <th>103</th>\n",
              "      <th>245</th>\n",
              "      <th>11</th>\n",
              "      <th>124</th>\n",
              "      <th>70</th>\n",
              "      <th>198</th>\n",
              "      <th>97</th>\n",
              "      <th>206</th>\n",
              "      <th>7</th>\n",
              "    </tr>\n",
              "    <tr>\n",
              "      <th>Unnamed: 0</th>\n",
              "      <th></th>\n",
              "      <th></th>\n",
              "      <th></th>\n",
              "      <th></th>\n",
              "      <th></th>\n",
              "      <th></th>\n",
              "      <th></th>\n",
              "      <th></th>\n",
              "      <th></th>\n",
              "      <th></th>\n",
              "      <th></th>\n",
              "      <th></th>\n",
              "      <th></th>\n",
              "      <th></th>\n",
              "      <th></th>\n",
              "      <th></th>\n",
              "      <th></th>\n",
              "      <th></th>\n",
              "      <th></th>\n",
              "      <th></th>\n",
              "      <th></th>\n",
              "      <th></th>\n",
              "      <th></th>\n",
              "      <th></th>\n",
              "      <th></th>\n",
              "      <th></th>\n",
              "      <th></th>\n",
              "      <th></th>\n",
              "      <th></th>\n",
              "      <th></th>\n",
              "      <th></th>\n",
              "      <th></th>\n",
              "      <th></th>\n",
              "      <th></th>\n",
              "      <th></th>\n",
              "      <th></th>\n",
              "      <th></th>\n",
              "      <th></th>\n",
              "      <th></th>\n",
              "      <th></th>\n",
              "      <th></th>\n",
              "      <th></th>\n",
              "      <th></th>\n",
              "      <th></th>\n",
              "      <th></th>\n",
              "      <th></th>\n",
              "      <th></th>\n",
              "      <th></th>\n",
              "      <th></th>\n",
              "      <th></th>\n",
              "      <th></th>\n",
              "      <th></th>\n",
              "      <th></th>\n",
              "      <th></th>\n",
              "      <th></th>\n",
              "      <th></th>\n",
              "      <th></th>\n",
              "      <th></th>\n",
              "      <th></th>\n",
              "      <th></th>\n",
              "      <th></th>\n",
              "      <th></th>\n",
              "      <th></th>\n",
              "      <th></th>\n",
              "      <th></th>\n",
              "      <th></th>\n",
              "      <th></th>\n",
              "      <th></th>\n",
              "      <th></th>\n",
              "      <th></th>\n",
              "      <th></th>\n",
              "      <th></th>\n",
              "      <th></th>\n",
              "      <th></th>\n",
              "      <th></th>\n",
              "      <th></th>\n",
              "      <th></th>\n",
              "      <th></th>\n",
              "      <th></th>\n",
              "      <th></th>\n",
              "      <th></th>\n",
              "    </tr>\n",
              "  </thead>\n",
              "  <tbody>\n",
              "    <tr>\n",
              "      <th>581882</th>\n",
              "      <td>-42051.166127</td>\n",
              "      <td>-1.917583</td>\n",
              "      <td>-5.726695e+08</td>\n",
              "      <td>-0.002595</td>\n",
              "      <td>0.0</td>\n",
              "      <td>-5.41746</td>\n",
              "      <td>-0.623737</td>\n",
              "      <td>-193.128986</td>\n",
              "      <td>76.690506</td>\n",
              "      <td>-0.024048</td>\n",
              "      <td>-18.237036</td>\n",
              "      <td>0.039208</td>\n",
              "      <td>-0.028454</td>\n",
              "      <td>-58.544078</td>\n",
              "      <td>-0.364694</td>\n",
              "      <td>-0.107878</td>\n",
              "      <td>-1609.243104</td>\n",
              "      <td>-0.828382</td>\n",
              "      <td>2922806</td>\n",
              "      <td>-1.143223</td>\n",
              "      <td>-3.614497</td>\n",
              "      <td>-0.000115</td>\n",
              "      <td>-66.189127</td>\n",
              "      <td>-2.793637</td>\n",
              "      <td>-0.466683</td>\n",
              "      <td>-0.00003</td>\n",
              "      <td>-0.343415</td>\n",
              "      <td>-0.694428</td>\n",
              "      <td>-0.301128</td>\n",
              "      <td>-0.258469</td>\n",
              "      <td>0.058356</td>\n",
              "      <td>-0.016435</td>\n",
              "      <td>-0.000567</td>\n",
              "      <td>-0.001884</td>\n",
              "      <td>-68.36811</td>\n",
              "      <td>-0.000379</td>\n",
              "      <td>-0.048077</td>\n",
              "      <td>-0.040043</td>\n",
              "      <td>-0.228106</td>\n",
              "      <td>-0.671324</td>\n",
              "      <td>...</td>\n",
              "      <td>-0.211608</td>\n",
              "      <td>-0.62084</td>\n",
              "      <td>-0.02921</td>\n",
              "      <td>12.911014</td>\n",
              "      <td>81.890234</td>\n",
              "      <td>-0.243136</td>\n",
              "      <td>-0.104665</td>\n",
              "      <td>-9239.707081</td>\n",
              "      <td>-0.134088</td>\n",
              "      <td>-2.548856</td>\n",
              "      <td>-1.019293</td>\n",
              "      <td>-0.00189</td>\n",
              "      <td>71.604424</td>\n",
              "      <td>-970.373846</td>\n",
              "      <td>140.179877</td>\n",
              "      <td>271.562669</td>\n",
              "      <td>-7.745251</td>\n",
              "      <td>-0.00909</td>\n",
              "      <td>-0.825973</td>\n",
              "      <td>-2.60662</td>\n",
              "      <td>0.0</td>\n",
              "      <td>0.012836</td>\n",
              "      <td>89.765174</td>\n",
              "      <td>-0.185299</td>\n",
              "      <td>-5.008096</td>\n",
              "      <td>-0.998268</td>\n",
              "      <td>-0.001733</td>\n",
              "      <td>82.021879</td>\n",
              "      <td>-86.119971</td>\n",
              "      <td>0.674766</td>\n",
              "      <td>-0.001431</td>\n",
              "      <td>-2.29064</td>\n",
              "      <td>-25.996269</td>\n",
              "      <td>-4.007526</td>\n",
              "      <td>-119.674411</td>\n",
              "      <td>-0.130031</td>\n",
              "      <td>-0.433736</td>\n",
              "      <td>-0.348913</td>\n",
              "      <td>-0.008999</td>\n",
              "      <td>-65.076097</td>\n",
              "    </tr>\n",
              "    <tr>\n",
              "      <th>354454</th>\n",
              "      <td>-38643.166127</td>\n",
              "      <td>6.722417</td>\n",
              "      <td>-5.726695e+08</td>\n",
              "      <td>-0.002595</td>\n",
              "      <td>0.0</td>\n",
              "      <td>-5.41746</td>\n",
              "      <td>-0.623737</td>\n",
              "      <td>-266.128986</td>\n",
              "      <td>-62.342828</td>\n",
              "      <td>-0.024048</td>\n",
              "      <td>-35.303704</td>\n",
              "      <td>-0.960792</td>\n",
              "      <td>-0.028454</td>\n",
              "      <td>-58.544078</td>\n",
              "      <td>-0.364694</td>\n",
              "      <td>-0.107878</td>\n",
              "      <td>-2256.137674</td>\n",
              "      <td>-0.828382</td>\n",
              "      <td>1764703</td>\n",
              "      <td>0.856777</td>\n",
              "      <td>-8.614497</td>\n",
              "      <td>-0.000115</td>\n",
              "      <td>-66.189127</td>\n",
              "      <td>-2.793637</td>\n",
              "      <td>-0.466683</td>\n",
              "      <td>-0.00003</td>\n",
              "      <td>-0.343415</td>\n",
              "      <td>-0.694428</td>\n",
              "      <td>-0.301128</td>\n",
              "      <td>-9.408469</td>\n",
              "      <td>-0.091644</td>\n",
              "      <td>-0.016435</td>\n",
              "      <td>-0.000567</td>\n",
              "      <td>-0.001884</td>\n",
              "      <td>-77.51811</td>\n",
              "      <td>-0.000379</td>\n",
              "      <td>-0.058077</td>\n",
              "      <td>-0.040043</td>\n",
              "      <td>-0.228106</td>\n",
              "      <td>-1.671324</td>\n",
              "      <td>...</td>\n",
              "      <td>-0.211608</td>\n",
              "      <td>-4.62084</td>\n",
              "      <td>-0.02921</td>\n",
              "      <td>-41.088986</td>\n",
              "      <td>-44.376426</td>\n",
              "      <td>0.756864</td>\n",
              "      <td>-0.104665</td>\n",
              "      <td>-9239.707081</td>\n",
              "      <td>-0.134088</td>\n",
              "      <td>-2.548856</td>\n",
              "      <td>-1.019293</td>\n",
              "      <td>-0.00189</td>\n",
              "      <td>-42.895570</td>\n",
              "      <td>-977.373846</td>\n",
              "      <td>-1187.898245</td>\n",
              "      <td>-512.437331</td>\n",
              "      <td>-3.745251</td>\n",
              "      <td>-0.00909</td>\n",
              "      <td>1.174027</td>\n",
              "      <td>-2.60662</td>\n",
              "      <td>0.0</td>\n",
              "      <td>-0.317164</td>\n",
              "      <td>-51.984826</td>\n",
              "      <td>-0.185299</td>\n",
              "      <td>-5.008096</td>\n",
              "      <td>-0.998268</td>\n",
              "      <td>-0.001733</td>\n",
              "      <td>-26.978121</td>\n",
              "      <td>-86.629971</td>\n",
              "      <td>-0.265234</td>\n",
              "      <td>-0.001431</td>\n",
              "      <td>-2.29064</td>\n",
              "      <td>-25.996269</td>\n",
              "      <td>-4.007526</td>\n",
              "      <td>-119.674411</td>\n",
              "      <td>-0.130031</td>\n",
              "      <td>-0.433736</td>\n",
              "      <td>-0.348913</td>\n",
              "      <td>-0.008999</td>\n",
              "      <td>-65.076097</td>\n",
              "    </tr>\n",
              "    <tr>\n",
              "      <th>366075</th>\n",
              "      <td>-42051.166127</td>\n",
              "      <td>-3.447583</td>\n",
              "      <td>9.722381e+08</td>\n",
              "      <td>-0.002595</td>\n",
              "      <td>0.0</td>\n",
              "      <td>-5.41746</td>\n",
              "      <td>0.376263</td>\n",
              "      <td>-266.128986</td>\n",
              "      <td>120.007176</td>\n",
              "      <td>-0.024048</td>\n",
              "      <td>149.546296</td>\n",
              "      <td>0.039208</td>\n",
              "      <td>-0.028454</td>\n",
              "      <td>-52.354078</td>\n",
              "      <td>-0.364694</td>\n",
              "      <td>-0.107878</td>\n",
              "      <td>-2903.321264</td>\n",
              "      <td>-0.828382</td>\n",
              "      <td>1823193</td>\n",
              "      <td>-1.143223</td>\n",
              "      <td>12.385503</td>\n",
              "      <td>-0.000115</td>\n",
              "      <td>-22.859127</td>\n",
              "      <td>-2.793637</td>\n",
              "      <td>0.533317</td>\n",
              "      <td>-0.00003</td>\n",
              "      <td>-0.343415</td>\n",
              "      <td>-0.694428</td>\n",
              "      <td>1.698872</td>\n",
              "      <td>-9.408469</td>\n",
              "      <td>0.068356</td>\n",
              "      <td>-0.016435</td>\n",
              "      <td>-0.000567</td>\n",
              "      <td>-0.001884</td>\n",
              "      <td>-34.18811</td>\n",
              "      <td>-0.000379</td>\n",
              "      <td>-0.058077</td>\n",
              "      <td>-0.040043</td>\n",
              "      <td>0.771894</td>\n",
              "      <td>-1.671324</td>\n",
              "      <td>...</td>\n",
              "      <td>-0.211608</td>\n",
              "      <td>7.37916</td>\n",
              "      <td>-0.02921</td>\n",
              "      <td>-9.088986</td>\n",
              "      <td>80.340244</td>\n",
              "      <td>-0.243136</td>\n",
              "      <td>-0.104665</td>\n",
              "      <td>-9239.707081</td>\n",
              "      <td>-0.134088</td>\n",
              "      <td>-2.548856</td>\n",
              "      <td>-1.019293</td>\n",
              "      <td>-0.00189</td>\n",
              "      <td>70.054434</td>\n",
              "      <td>-977.373846</td>\n",
              "      <td>-1187.961723</td>\n",
              "      <td>-512.437331</td>\n",
              "      <td>-7.745251</td>\n",
              "      <td>-0.00909</td>\n",
              "      <td>-0.825973</td>\n",
              "      <td>-2.60662</td>\n",
              "      <td>0.0</td>\n",
              "      <td>-0.317164</td>\n",
              "      <td>133.081844</td>\n",
              "      <td>-0.185299</td>\n",
              "      <td>-5.008096</td>\n",
              "      <td>-0.998268</td>\n",
              "      <td>-0.001733</td>\n",
              "      <td>22.021879</td>\n",
              "      <td>-53.469971</td>\n",
              "      <td>0.544766</td>\n",
              "      <td>-0.001431</td>\n",
              "      <td>-2.29064</td>\n",
              "      <td>-25.996269</td>\n",
              "      <td>-4.007526</td>\n",
              "      <td>-119.674411</td>\n",
              "      <td>1.869969</td>\n",
              "      <td>0.566264</td>\n",
              "      <td>-0.348913</td>\n",
              "      <td>-0.008999</td>\n",
              "      <td>-65.076097</td>\n",
              "    </tr>\n",
              "    <tr>\n",
              "      <th>323931</th>\n",
              "      <td>-42051.166127</td>\n",
              "      <td>1.632417</td>\n",
              "      <td>9.734477e+08</td>\n",
              "      <td>-0.002595</td>\n",
              "      <td>0.0</td>\n",
              "      <td>-5.41746</td>\n",
              "      <td>0.376263</td>\n",
              "      <td>-266.128986</td>\n",
              "      <td>46.107170</td>\n",
              "      <td>-0.024048</td>\n",
              "      <td>-4.603701</td>\n",
              "      <td>0.039208</td>\n",
              "      <td>-0.028454</td>\n",
              "      <td>-48.704078</td>\n",
              "      <td>-0.364694</td>\n",
              "      <td>-0.107878</td>\n",
              "      <td>-2942.440404</td>\n",
              "      <td>-0.828382</td>\n",
              "      <td>1611507</td>\n",
              "      <td>-1.143223</td>\n",
              "      <td>4.385503</td>\n",
              "      <td>-0.000115</td>\n",
              "      <td>2.690873</td>\n",
              "      <td>-2.793637</td>\n",
              "      <td>0.533317</td>\n",
              "      <td>-0.00003</td>\n",
              "      <td>-0.343415</td>\n",
              "      <td>-0.694428</td>\n",
              "      <td>-0.301128</td>\n",
              "      <td>130.431531</td>\n",
              "      <td>0.108356</td>\n",
              "      <td>-0.016435</td>\n",
              "      <td>-0.000567</td>\n",
              "      <td>-0.001884</td>\n",
              "      <td>131.20189</td>\n",
              "      <td>-0.000379</td>\n",
              "      <td>-0.058077</td>\n",
              "      <td>-0.040043</td>\n",
              "      <td>-0.228106</td>\n",
              "      <td>5.328676</td>\n",
              "      <td>...</td>\n",
              "      <td>-0.211608</td>\n",
              "      <td>-1.62084</td>\n",
              "      <td>-0.02921</td>\n",
              "      <td>125.911014</td>\n",
              "      <td>36.173574</td>\n",
              "      <td>-0.243136</td>\n",
              "      <td>-0.104665</td>\n",
              "      <td>-9239.707081</td>\n",
              "      <td>-0.134088</td>\n",
              "      <td>-2.548856</td>\n",
              "      <td>-1.019293</td>\n",
              "      <td>-0.00189</td>\n",
              "      <td>25.887764</td>\n",
              "      <td>-977.373846</td>\n",
              "      <td>-1187.961723</td>\n",
              "      <td>-512.437331</td>\n",
              "      <td>18.254749</td>\n",
              "      <td>-0.00909</td>\n",
              "      <td>-0.825973</td>\n",
              "      <td>-2.60662</td>\n",
              "      <td>0.0</td>\n",
              "      <td>-0.007164</td>\n",
              "      <td>59.181838</td>\n",
              "      <td>-0.185299</td>\n",
              "      <td>-5.008096</td>\n",
              "      <td>-0.998268</td>\n",
              "      <td>-0.001733</td>\n",
              "      <td>24.021879</td>\n",
              "      <td>111.920029</td>\n",
              "      <td>0.494766</td>\n",
              "      <td>-0.001431</td>\n",
              "      <td>-2.29064</td>\n",
              "      <td>-25.996269</td>\n",
              "      <td>-4.007526</td>\n",
              "      <td>-119.674411</td>\n",
              "      <td>-0.130031</td>\n",
              "      <td>0.566264</td>\n",
              "      <td>-0.348913</td>\n",
              "      <td>-0.008999</td>\n",
              "      <td>-65.076097</td>\n",
              "    </tr>\n",
              "    <tr>\n",
              "      <th>625250</th>\n",
              "      <td>-42051.166127</td>\n",
              "      <td>-3.447583</td>\n",
              "      <td>-5.726695e+08</td>\n",
              "      <td>-0.002595</td>\n",
              "      <td>0.0</td>\n",
              "      <td>-5.41746</td>\n",
              "      <td>-0.623737</td>\n",
              "      <td>-33.128986</td>\n",
              "      <td>-33.142826</td>\n",
              "      <td>-0.024048</td>\n",
              "      <td>-17.053704</td>\n",
              "      <td>0.039208</td>\n",
              "      <td>-0.028454</td>\n",
              "      <td>-58.544078</td>\n",
              "      <td>-0.364694</td>\n",
              "      <td>-0.107878</td>\n",
              "      <td>10012.118596</td>\n",
              "      <td>-0.828382</td>\n",
              "      <td>3146094</td>\n",
              "      <td>-1.143223</td>\n",
              "      <td>12.385503</td>\n",
              "      <td>-0.000115</td>\n",
              "      <td>-66.189127</td>\n",
              "      <td>-2.793637</td>\n",
              "      <td>-0.466683</td>\n",
              "      <td>-0.00003</td>\n",
              "      <td>-0.343415</td>\n",
              "      <td>-0.694428</td>\n",
              "      <td>-0.301128</td>\n",
              "      <td>-9.408469</td>\n",
              "      <td>0.078356</td>\n",
              "      <td>-0.016435</td>\n",
              "      <td>-0.000567</td>\n",
              "      <td>-0.001884</td>\n",
              "      <td>-77.51811</td>\n",
              "      <td>-0.000379</td>\n",
              "      <td>0.381923</td>\n",
              "      <td>-0.040043</td>\n",
              "      <td>-0.228106</td>\n",
              "      <td>-1.671324</td>\n",
              "      <td>...</td>\n",
              "      <td>-0.211608</td>\n",
              "      <td>2.37916</td>\n",
              "      <td>-0.02921</td>\n",
              "      <td>-12.088986</td>\n",
              "      <td>14.806904</td>\n",
              "      <td>-0.243136</td>\n",
              "      <td>-0.104665</td>\n",
              "      <td>-9239.707081</td>\n",
              "      <td>-0.134088</td>\n",
              "      <td>-2.548856</td>\n",
              "      <td>-1.019293</td>\n",
              "      <td>-0.00189</td>\n",
              "      <td>4.521094</td>\n",
              "      <td>3551.626154</td>\n",
              "      <td>-389.319123</td>\n",
              "      <td>4734.562669</td>\n",
              "      <td>5.254749</td>\n",
              "      <td>-0.00909</td>\n",
              "      <td>-0.825973</td>\n",
              "      <td>-2.60662</td>\n",
              "      <td>0.0</td>\n",
              "      <td>-0.317164</td>\n",
              "      <td>-20.068160</td>\n",
              "      <td>-0.185299</td>\n",
              "      <td>-5.008096</td>\n",
              "      <td>-0.998268</td>\n",
              "      <td>-0.001733</td>\n",
              "      <td>8.021879</td>\n",
              "      <td>-96.799971</td>\n",
              "      <td>0.294766</td>\n",
              "      <td>-0.001431</td>\n",
              "      <td>-2.29064</td>\n",
              "      <td>-7.996269</td>\n",
              "      <td>-4.007526</td>\n",
              "      <td>-119.674411</td>\n",
              "      <td>-0.130031</td>\n",
              "      <td>-0.433736</td>\n",
              "      <td>-0.348913</td>\n",
              "      <td>-0.008999</td>\n",
              "      <td>-65.076097</td>\n",
              "    </tr>\n",
              "  </tbody>\n",
              "</table>\n",
              "<p>5 rows × 258 columns</p>\n",
              "</div>\n",
              "      <button class=\"colab-df-convert\" onclick=\"convertToInteractive('df-5d1c598f-c2fa-4893-a800-1889677a5086')\"\n",
              "              title=\"Convert this dataframe to an interactive table.\"\n",
              "              style=\"display:none;\">\n",
              "        \n",
              "  <svg xmlns=\"http://www.w3.org/2000/svg\" height=\"24px\"viewBox=\"0 0 24 24\"\n",
              "       width=\"24px\">\n",
              "    <path d=\"M0 0h24v24H0V0z\" fill=\"none\"/>\n",
              "    <path d=\"M18.56 5.44l.94 2.06.94-2.06 2.06-.94-2.06-.94-.94-2.06-.94 2.06-2.06.94zm-11 1L8.5 8.5l.94-2.06 2.06-.94-2.06-.94L8.5 2.5l-.94 2.06-2.06.94zm10 10l.94 2.06.94-2.06 2.06-.94-2.06-.94-.94-2.06-.94 2.06-2.06.94z\"/><path d=\"M17.41 7.96l-1.37-1.37c-.4-.4-.92-.59-1.43-.59-.52 0-1.04.2-1.43.59L10.3 9.45l-7.72 7.72c-.78.78-.78 2.05 0 2.83L4 21.41c.39.39.9.59 1.41.59.51 0 1.02-.2 1.41-.59l7.78-7.78 2.81-2.81c.8-.78.8-2.07 0-2.86zM5.41 20L4 18.59l7.72-7.72 1.47 1.35L5.41 20z\"/>\n",
              "  </svg>\n",
              "      </button>\n",
              "      \n",
              "  <style>\n",
              "    .colab-df-container {\n",
              "      display:flex;\n",
              "      flex-wrap:wrap;\n",
              "      gap: 12px;\n",
              "    }\n",
              "\n",
              "    .colab-df-convert {\n",
              "      background-color: #E8F0FE;\n",
              "      border: none;\n",
              "      border-radius: 50%;\n",
              "      cursor: pointer;\n",
              "      display: none;\n",
              "      fill: #1967D2;\n",
              "      height: 32px;\n",
              "      padding: 0 0 0 0;\n",
              "      width: 32px;\n",
              "    }\n",
              "\n",
              "    .colab-df-convert:hover {\n",
              "      background-color: #E2EBFA;\n",
              "      box-shadow: 0px 1px 2px rgba(60, 64, 67, 0.3), 0px 1px 3px 1px rgba(60, 64, 67, 0.15);\n",
              "      fill: #174EA6;\n",
              "    }\n",
              "\n",
              "    [theme=dark] .colab-df-convert {\n",
              "      background-color: #3B4455;\n",
              "      fill: #D2E3FC;\n",
              "    }\n",
              "\n",
              "    [theme=dark] .colab-df-convert:hover {\n",
              "      background-color: #434B5C;\n",
              "      box-shadow: 0px 1px 3px 1px rgba(0, 0, 0, 0.15);\n",
              "      filter: drop-shadow(0px 1px 2px rgba(0, 0, 0, 0.3));\n",
              "      fill: #FFFFFF;\n",
              "    }\n",
              "  </style>\n",
              "\n",
              "      <script>\n",
              "        const buttonEl =\n",
              "          document.querySelector('#df-5d1c598f-c2fa-4893-a800-1889677a5086 button.colab-df-convert');\n",
              "        buttonEl.style.display =\n",
              "          google.colab.kernel.accessAllowed ? 'block' : 'none';\n",
              "\n",
              "        async function convertToInteractive(key) {\n",
              "          const element = document.querySelector('#df-5d1c598f-c2fa-4893-a800-1889677a5086');\n",
              "          const dataTable =\n",
              "            await google.colab.kernel.invokeFunction('convertToInteractive',\n",
              "                                                     [key], {});\n",
              "          if (!dataTable) return;\n",
              "\n",
              "          const docLinkHtml = 'Like what you see? Visit the ' +\n",
              "            '<a target=\"_blank\" href=https://colab.research.google.com/notebooks/data_table.ipynb>data table notebook</a>'\n",
              "            + ' to learn more about interactive tables.';\n",
              "          element.innerHTML = '';\n",
              "          dataTable['output_type'] = 'display_data';\n",
              "          await google.colab.output.renderOutput(dataTable, element);\n",
              "          const docLink = document.createElement('div');\n",
              "          docLink.innerHTML = docLinkHtml;\n",
              "          element.appendChild(docLink);\n",
              "        }\n",
              "      </script>\n",
              "    </div>\n",
              "  </div>\n",
              "  "
            ],
            "text/plain": [
              "                     213       104           222  ...        97       206          7\n",
              "Unnamed: 0                                        ...                               \n",
              "581882     -42051.166127 -1.917583 -5.726695e+08  ... -0.348913 -0.008999 -65.076097\n",
              "354454     -38643.166127  6.722417 -5.726695e+08  ... -0.348913 -0.008999 -65.076097\n",
              "366075     -42051.166127 -3.447583  9.722381e+08  ... -0.348913 -0.008999 -65.076097\n",
              "323931     -42051.166127  1.632417  9.734477e+08  ... -0.348913 -0.008999 -65.076097\n",
              "625250     -42051.166127 -3.447583 -5.726695e+08  ... -0.348913 -0.008999 -65.076097\n",
              "\n",
              "[5 rows x 258 columns]"
            ]
          },
          "metadata": {},
          "execution_count": 67
        }
      ],
      "source": [
        "#cs_pipe.fit(X_train)\n",
        "\n",
        "cs_pipe.transform(X_test).head()"
      ]
    },
    {
      "cell_type": "markdown",
      "metadata": {
        "id": "k4QAoZsVHJNd"
      },
      "source": [
        "### 3.2 Пайплайн обработки признаков"
      ]
    },
    {
      "cell_type": "code",
      "execution_count": 68,
      "metadata": {
        "id": "zTOvFxZ-HJNd"
      },
      "outputs": [],
      "source": [
        "from sklearn.pipeline import FeatureUnion, make_pipeline\n",
        "from sklearn.preprocessing import StandardScaler, OneHotEncoder\n",
        "from sklearn.impute import SimpleImputer"
      ]
    },
    {
      "cell_type": "code",
      "execution_count": 69,
      "metadata": {
        "id": "bMYL88h3HJNd"
      },
      "outputs": [],
      "source": [
        "f_prep_pipeline = make_pipeline(\n",
        "    ColumnSelector(columns=f_ok),\n",
        "    FeatureUnion(transformer_list=[\n",
        "        (\"numeric_features\", make_pipeline(\n",
        "            ColumnSelector(f_numeric),\n",
        "            SimpleImputer(strategy=\"mean\"),\n",
        "            StandardScaler()\n",
        "        )),\n",
        "        (\"categorical_features\", make_pipeline(\n",
        "            ColumnSelector(f_categorical),\n",
        "            SimpleImputer(strategy=\"most_frequent\"),\n",
        "            OneHotEncoder(handle_unknown='ignore')\n",
        "        )),\n",
        "        (\"boolean_features\", make_pipeline(\n",
        "            ColumnSelector(f_binary),\n",
        "        ))\n",
        "    ])\n",
        ")"
      ]
    },
    {
      "cell_type": "code",
      "execution_count": 70,
      "metadata": {
        "id": "jEJ8vST3HJNe",
        "colab": {
          "base_uri": "https://localhost:8080/"
        },
        "outputId": "6a8afd48-c3f0-46b9-9261-7e685a4a8753"
      },
      "outputs": [
        {
          "output_type": "execute_result",
          "data": {
            "text/plain": [
              "[('columnselector',\n",
              "  ColumnSelector(columns=['213', '104', '222', '161', '18', '194', '45', '122',\n",
              "                          '188', '204', '65', '223', '231', '221', '38', '98',\n",
              "                          '171', '135', '182', '95', '13', '192', 'id_other',\n",
              "                          '33', '118', '249', '67', '106', '62', '16', ...])),\n",
              " ('featureunion', FeatureUnion(transformer_list=[('numeric_features',\n",
              "                                  Pipeline(steps=[('columnselector',\n",
              "                                                   ColumnSelector(columns=['213',\n",
              "                                                                           '104',\n",
              "                                                                           '222',\n",
              "                                                                           '161',\n",
              "                                                                           '18',\n",
              "                                                                           '194',\n",
              "                                                                           '45',\n",
              "                                                                           '122',\n",
              "                                                                           '188',\n",
              "                                                                           '204',\n",
              "                                                                           '65',\n",
              "                                                                           '223',\n",
              "                                                                           '231',\n",
              "                                                                           '221',\n",
              "                                                                           '38',\n",
              "                                                                           '98',\n",
              "                                                                           '171',\n",
              "                                                                           '135',\n",
              "                                                                           '182',\n",
              "                                                                           '95',\n",
              "                                                                           '13',\n",
              "                                                                           '192',\n",
              "                                                                           'id_other',\n",
              "                                                                           '33',\n",
              "                                                                           '118',\n",
              "                                                                           '249',\n",
              "                                                                           '67',\n",
              "                                                                           '106',\n",
              "                                                                           '62',\n",
              "                                                                           '16', ...])),\n",
              "                                                  ('simpleimputer',\n",
              "                                                   SimpleImputer()),\n",
              "                                                  ('standardscaler',\n",
              "                                                   StandardScaler())])),\n",
              "                                 ('categorical_features',\n",
              "                                  Pipeline(steps=[('columnselector',\n",
              "                                                   ColumnSelector(columns=['vas_id'])),\n",
              "                                                  ('simpleimputer',\n",
              "                                                   SimpleImputer(strategy='most_frequent')),\n",
              "                                                  ('onehotencoder',\n",
              "                                                   OneHotEncoder(handle_unknown='ignore'))])),\n",
              "                                 ('boolean_features',\n",
              "                                  Pipeline(steps=[('columnselector',\n",
              "                                                   ColumnSelector(columns=[]))]))]))]"
            ]
          },
          "metadata": {},
          "execution_count": 70
        }
      ],
      "source": [
        "f_prep_pipeline.steps"
      ]
    },
    {
      "cell_type": "code",
      "execution_count": 71,
      "metadata": {
        "id": "VZ__g4C9HJNg",
        "colab": {
          "base_uri": "https://localhost:8080/"
        },
        "outputId": "3c2feded-32b5-4f8c-ec21-8fb1656ddfe0"
      },
      "outputs": [
        {
          "output_type": "execute_result",
          "data": {
            "text/plain": [
              "258"
            ]
          },
          "metadata": {},
          "execution_count": 71
        }
      ],
      "source": [
        "X_test.shape[1]"
      ]
    },
    {
      "cell_type": "code",
      "execution_count": 72,
      "metadata": {
        "id": "3tP9_fCXHJNh",
        "colab": {
          "base_uri": "https://localhost:8080/"
        },
        "outputId": "82096de9-4f45-4ad1-bec7-17d2500b6845"
      },
      "outputs": [
        {
          "output_type": "execute_result",
          "data": {
            "text/plain": [
              "260"
            ]
          },
          "metadata": {},
          "execution_count": 72
        }
      ],
      "source": [
        "f_prep_pipeline.fit(X_train)\n",
        "\n",
        "n_features = f_prep_pipeline.transform(X_test).shape[1]\n",
        "n_features"
      ]
    },
    {
      "cell_type": "markdown",
      "metadata": {
        "id": "j4Bi-MLUHJNj"
      },
      "source": [
        "### 3.3 Gridsearch для пайплайнов"
      ]
    },
    {
      "cell_type": "code",
      "execution_count": 61,
      "metadata": {
        "id": "0_92Y3-xHJNk"
      },
      "outputs": [],
      "source": [
        "lg_pipe = make_pipeline(\n",
        "    f_prep_pipeline,\n",
        "    LogisticRegression(random_state=RANDOM_STATE)\n",
        ")"
      ]
    },
    {
      "cell_type": "markdown",
      "metadata": {
        "id": "pfqcVQO5HJNl"
      },
      "source": [
        " "
      ]
    },
    {
      "cell_type": "code",
      "execution_count": 64,
      "metadata": {
        "id": "Ht8cI6r5HJNm"
      },
      "outputs": [],
      "source": [
        "from sklearn.model_selection import GridSearchCV"
      ]
    },
    {
      "cell_type": "code",
      "execution_count": 65,
      "metadata": {
        "id": "JS9rF4e8HJNm"
      },
      "outputs": [],
      "source": [
        "def run_grid_search(estimator, X, y, params_grid, cv, scoring='roc_auc'):\n",
        "    gsc = GridSearchCV(estimator, params_grid, scoring=scoring, cv=cv, n_jobs=-1)\n",
        "\n",
        "    gsc.fit(X, y)\n",
        "    print(\"Best %s score: %.2f\" % (scoring, gsc.best_score_))\n",
        "    print()\n",
        "    print(\"Best parameters set found on development set:\")\n",
        "    print()\n",
        "    print(gsc.best_params_)\n",
        "    print()\n",
        "    print(\"Grid scores on development set:\")\n",
        "    print()\n",
        "\n",
        "    for i, params in enumerate(gsc.cv_results_['params']):\n",
        "        print(\"%0.3f (+/-%0.03f) for %r\"\n",
        "              % (gsc.cv_results_['mean_test_score'][i], gsc.cv_results_['std_test_score'][i] * 2, params))\n",
        "\n",
        "    print()\n",
        "    \n",
        "    return gsc"
      ]
    },
    {
      "cell_type": "markdown",
      "metadata": {
        "id": "V2Dzmu1LHJNn"
      },
      "source": [
        "Про поиск имен параметров"
      ]
    },
    {
      "cell_type": "code",
      "execution_count": null,
      "metadata": {
        "id": "5lE03CEvHJNo"
      },
      "outputs": [],
      "source": [
        "[k for k in lg_pipe.get_params().keys() if 'imputer' in k]"
      ]
    },
    {
      "cell_type": "code",
      "execution_count": null,
      "metadata": {
        "id": "7Nx8hH8vHJNo"
      },
      "outputs": [],
      "source": [
        "param_grid = {\n",
        "    \"pipeline__featureunion__categorical_features__simpleimputer__strategy\": ['most_frequent', 'constant'],\n",
        "    \"pipeline__featureunion__categorical_features__simpleimputer__fill_value\": [-1],\n",
        "}\n",
        "\n",
        "lg_gsc = run_grid_search(lg_pipe, X_train, y_train, param_grid, kfold_cv)"
      ]
    },
    {
      "cell_type": "markdown",
      "metadata": {
        "id": "A3PWWeGpHJNp"
      },
      "source": [
        "Сравним с baseline моделью, у которой roc_auc = 0.67 (+/- 0.02)"
      ]
    },
    {
      "cell_type": "code",
      "execution_count": null,
      "metadata": {
        "id": "UFOP2tSxHJNq"
      },
      "outputs": [],
      "source": [
        "param_grid = {\n",
        "    \"logisticregression__penalty\": ['l1', 'l2'],\n",
        "    \"logisticregression__C\": [0.01, 0.1, 5.0]\n",
        "}\n",
        "\n",
        "lg_gsc = run_grid_search(lg_pipe, X_train, y_train, param_grid, kfold_cv)"
      ]
    },
    {
      "cell_type": "code",
      "execution_count": null,
      "metadata": {
        "id": "H7DDeNaVHJNr"
      },
      "outputs": [],
      "source": [
        "lg_gsc.best_params_"
      ]
    },
    {
      "cell_type": "markdown",
      "metadata": {
        "id": "nXaFn7k4HJNt"
      },
      "source": [
        "### 3.4 Отбор признаков в пайплайнах"
      ]
    },
    {
      "cell_type": "code",
      "execution_count": 73,
      "metadata": {
        "id": "AzpwbEo9HJNt"
      },
      "outputs": [],
      "source": [
        "from sklearn.feature_selection import SelectFromModel\n",
        "from sklearn.linear_model import LogisticRegression"
      ]
    },
    {
      "cell_type": "markdown",
      "metadata": {
        "id": "Qz2kip9LHJNu"
      },
      "source": [
        "Атрибут estimator класса SelectFromModel должен иметь хотя бы один из атрибутов feature_importances_ или coef_ после выполнения метода fit."
      ]
    },
    {
      "cell_type": "code",
      "execution_count": 74,
      "metadata": {
        "id": "oCtEBSCyHJNu"
      },
      "outputs": [],
      "source": [
        "fs_pipe = make_pipeline(\n",
        "    f_prep_pipeline,\n",
        "    SelectFromModel(LogisticRegression(penalty='l2', random_state=RANDOM_STATE), threshold=1e-5),\n",
        ")"
      ]
    },
    {
      "cell_type": "code",
      "execution_count": 75,
      "metadata": {
        "id": "dBypV_xMHJNv",
        "colab": {
          "base_uri": "https://localhost:8080/"
        },
        "outputId": "4ac50ada-81a7-4f3f-e538-5a93e5fea421"
      },
      "outputs": [
        {
          "output_type": "execute_result",
          "data": {
            "text/plain": [
              "(207914, 260)"
            ]
          },
          "metadata": {},
          "execution_count": 75
        }
      ],
      "source": [
        "f_prep_pipeline.fit(X_train)\n",
        "f_prep_pipeline.transform(X_test).shape"
      ]
    },
    {
      "cell_type": "code",
      "execution_count": 76,
      "metadata": {
        "id": "Ksxmq5j7HJNw",
        "colab": {
          "base_uri": "https://localhost:8080/"
        },
        "outputId": "2f85af89-d09c-461e-f1da-74b898bb0606"
      },
      "outputs": [
        {
          "output_type": "execute_result",
          "data": {
            "text/plain": [
              "(207914, 260)"
            ]
          },
          "metadata": {},
          "execution_count": 76
        }
      ],
      "source": [
        "fs_pipe.fit(X_train, y_train)\n",
        "fs_pipe.transform(X_test).shape"
      ]
    },
    {
      "cell_type": "code",
      "execution_count": 77,
      "metadata": {
        "id": "vFYb7XjMHJNy"
      },
      "outputs": [],
      "source": [
        "lg_fs_pipe = make_pipeline(\n",
        "    f_prep_pipeline,\n",
        "    SelectFromModel(LogisticRegression(penalty='l2', random_state=RANDOM_STATE), threshold=1e-5),\n",
        "    LogisticRegression(random_state=RANDOM_STATE)\n",
        ")"
      ]
    },
    {
      "cell_type": "code",
      "execution_count": 80,
      "metadata": {
        "id": "ZwRMXHPZHJNz"
      },
      "outputs": [],
      "source": [
        "#param_grid = [\n",
        "#    {\"selectfrommodel__max_features\": [None, 5, 10, 50, 100, 150], \"selectfrommodel__threshold\": [-np.inf]},\n",
        "#    {\"selectfrommodel__threshold\": [1e-5]},\n",
        "#]\n",
        "#\n",
        "#lg_fs_gsc = run_grid_search(lg_fs_pipe, X_train, y_train, param_grid, kfold_cv)\n",
        "\n",
        "lg_fs_gsc = lg_fs_pipe"
      ]
    },
    {
      "cell_type": "markdown",
      "metadata": {
        "id": "wxrAPz3yHJN0"
      },
      "source": [
        "# 4 Финальная модель"
      ]
    },
    {
      "cell_type": "code",
      "execution_count": 78,
      "metadata": {
        "id": "txXvaJ9DHJN1"
      },
      "outputs": [],
      "source": [
        "from sklearn.ensemble import GradientBoostingClassifier\n",
        "from sklearn.feature_selection import SelectFromModel"
      ]
    },
    {
      "cell_type": "code",
      "execution_count": 79,
      "metadata": {
        "id": "O3RDFiINHJN1"
      },
      "outputs": [],
      "source": [
        "gb_fs_pipe = make_pipeline(\n",
        "    f_prep_pipeline,\n",
        "    SelectFromModel(LogisticRegression(penalty='l2', random_state=RANDOM_STATE), threshold=1e-5),\n",
        "    GradientBoostingClassifier()\n",
        ")"
      ]
    },
    {
      "cell_type": "code",
      "execution_count": 62,
      "metadata": {
        "id": "H-qg-XNCHJN2",
        "colab": {
          "base_uri": "https://localhost:8080/"
        },
        "outputId": "37c7a6c8-0866-482c-f5f9-e6bc051a5b37"
      },
      "outputs": [
        {
          "output_type": "execute_result",
          "data": {
            "text/plain": [
              "['gradientboostingclassifier',\n",
              " 'gradientboostingclassifier__ccp_alpha',\n",
              " 'gradientboostingclassifier__criterion',\n",
              " 'gradientboostingclassifier__init',\n",
              " 'gradientboostingclassifier__learning_rate',\n",
              " 'gradientboostingclassifier__loss',\n",
              " 'gradientboostingclassifier__max_depth',\n",
              " 'gradientboostingclassifier__max_features',\n",
              " 'gradientboostingclassifier__max_leaf_nodes',\n",
              " 'gradientboostingclassifier__min_impurity_decrease',\n",
              " 'gradientboostingclassifier__min_samples_leaf',\n",
              " 'gradientboostingclassifier__min_samples_split',\n",
              " 'gradientboostingclassifier__min_weight_fraction_leaf',\n",
              " 'gradientboostingclassifier__n_estimators',\n",
              " 'gradientboostingclassifier__n_iter_no_change',\n",
              " 'gradientboostingclassifier__random_state',\n",
              " 'gradientboostingclassifier__subsample',\n",
              " 'gradientboostingclassifier__tol',\n",
              " 'gradientboostingclassifier__validation_fraction',\n",
              " 'gradientboostingclassifier__verbose',\n",
              " 'gradientboostingclassifier__warm_start']"
            ]
          },
          "metadata": {},
          "execution_count": 62
        }
      ],
      "source": [
        "[k for k in gb_fs_pipe.get_params().keys() if 'grad' in k]"
      ]
    },
    {
      "cell_type": "code",
      "execution_count": 81,
      "metadata": {
        "id": "-CfUIsOUHJN2"
      },
      "outputs": [],
      "source": [
        "#param_grid = {\n",
        "#    \"selectfrommodel__threshold\": [-np.inf, 1e-05],\n",
        "#    \n",
        "#    \"gradientboostingclassifier__max_depth\": [1, 5],\n",
        "#    \"gradientboostingclassifier__n_estimators\": [10, 100]\n",
        "#}\n",
        "#\n",
        "#gb_fs_gsc = run_grid_search(gb_fs_pipe, X_train, y_train, param_grid, kfold_cv)\n",
        "\n",
        "gb_fs_gsc = gb_fs_pipe"
      ]
    },
    {
      "cell_type": "markdown",
      "metadata": {
        "id": "I76dWPEXHJN3"
      },
      "source": [
        "### 4.1 Сравнение моделей"
      ]
    },
    {
      "cell_type": "code",
      "execution_count": 84,
      "metadata": {
        "id": "qnpUnYn_HJN4"
      },
      "outputs": [],
      "source": [
        "#lg_fs_pipe_final = lg_fs_gsc.best_estimator_\n",
        "lg_fs_pipe_final = lg_fs_gsc\n",
        "\n",
        "lg_fs_pipe_final.fit(X_train, y_train)\n",
        "\n",
        "lg_fs_pred = lg_fs_pipe_final.predict_proba(X_test)[:,1]"
      ]
    },
    {
      "cell_type": "code",
      "execution_count": 85,
      "metadata": {
        "id": "hP8sQhslHJN4",
        "colab": {
          "base_uri": "https://localhost:8080/"
        },
        "outputId": "6b2fa7c5-8804-446b-a8e9-224c11193bda"
      },
      "outputs": [
        {
          "output_type": "stream",
          "name": "stdout",
          "text": [
            "              precision    recall  f1-score   support\n",
            "\n",
            "         0.0       0.93      0.99      0.96    192854\n",
            "         1.0       0.46      0.10      0.16     15060\n",
            "\n",
            "    accuracy                           0.93    207914\n",
            "   macro avg       0.70      0.54      0.56    207914\n",
            "weighted avg       0.90      0.93      0.90    207914\n",
            "\n"
          ]
        }
      ],
      "source": [
        "print(classification_report(y_test, lg_fs_pred > 0.5))"
      ]
    },
    {
      "cell_type": "code",
      "execution_count": 87,
      "metadata": {
        "id": "PVd2ZntIHJN6"
      },
      "outputs": [],
      "source": [
        "#gb_fs_pipe_final = gb_fs_gsc.best_estimator_\n",
        "gb_fs_pipe_final = gb_fs_gsc\n",
        "\n",
        "gb_fs_pipe_final.fit(X_train, y_train)\n",
        "\n",
        "gb_fs_pred = gb_fs_pipe_final.predict_proba(X_test)[:,1]"
      ]
    },
    {
      "cell_type": "code",
      "execution_count": 88,
      "metadata": {
        "id": "RGfsrZuOHJN6",
        "colab": {
          "base_uri": "https://localhost:8080/"
        },
        "outputId": "d156d77c-0f57-4496-a8bd-7cdf759e4a8a"
      },
      "outputs": [
        {
          "output_type": "stream",
          "name": "stdout",
          "text": [
            "              precision    recall  f1-score   support\n",
            "\n",
            "         0.0       0.95      0.99      0.97    192854\n",
            "         1.0       0.69      0.28      0.39     15060\n",
            "\n",
            "    accuracy                           0.94    207914\n",
            "   macro avg       0.82      0.63      0.68    207914\n",
            "weighted avg       0.93      0.94      0.93    207914\n",
            "\n"
          ]
        }
      ],
      "source": [
        "print(classification_report(y_test, gb_fs_pred > 0.5))"
      ]
    },
    {
      "cell_type": "code",
      "execution_count": 89,
      "metadata": {
        "id": "1cMu5xN-HJN9",
        "colab": {
          "base_uri": "https://localhost:8080/",
          "height": 1000
        },
        "outputId": "cb1b046d-0e89-4b0f-a317-862d0daef989"
      },
      "outputs": [
        {
          "output_type": "stream",
          "name": "stdout",
          "text": [
            "Baseline: AUC_PR = 0.106\n",
            "Baseline: AUC_ROC = 0.626\n",
            "lg_fs_pred: AUC_PR = 0.373\n",
            "lg_fs_pred: AUC_ROC = 0.871\n",
            "gb_fs_pred: AUC_PR = 0.573\n",
            "gb_fs_pred: AUC_ROC = 0.931\n"
          ]
        },
        {
          "output_type": "display_data",
          "data": {
            "image/png": "[encoded data removed]",
            "text/plain": [
              "<Figure size 864x1728 with 2 Axes>"
            ]
          },
          "metadata": {}
        }
      ],
      "source": [
        "f, (ax1, ax2) = plt.subplots(1, 2, sharey=True)\n",
        "\n",
        "f.set_figheight(24)\n",
        "f.set_figwidth(12)\n",
        "\n",
        "ax1 = plt.subplot(211)\n",
        "ax1.set_title('ROC')\n",
        "ax1.set_xlabel('TPR')\n",
        "ax1.set_ylabel('FPR')\n",
        "\n",
        "\n",
        "ax2 = plt.subplot(212)\n",
        "ax2.set_title('PR')\n",
        "ax2.set_xlabel('Recall')\n",
        "ax2.set_ylabel('Precision')\n",
        "\n",
        "ax1.plot([0, 1], [0, 1], 'k--')\n",
        "\n",
        "fpr, tpr, roc_thresholds = roc_curve(y_test, bl_y_pred)\n",
        "precision, recall, pr_thresholds = precision_recall_curve(y_test, bl_y_pred)\n",
        "ax1.plot(fpr, tpr, label='Baseline', color='b')\n",
        "ax2.plot(recall, precision, label='Baseline', color='b')\n",
        "print(\"Baseline: AUC_PR = %.3f\" % auc(recall, precision))\n",
        "print(\"Baseline: AUC_ROC = %.3f\" % auc(fpr, tpr))\n",
        "\n",
        "\n",
        "fpr, tpr, roc_thresholds = roc_curve(y_test, lg_fs_pred)\n",
        "precision, recall, pr_thresholds = precision_recall_curve(y_test, lg_fs_pred)\n",
        "ax1.plot(fpr, tpr, label=\"lg_fs_pred\", color='g')\n",
        "ax2.plot(recall, precision, label=\"lg_fs_pred\", color='g')\n",
        "print(\"lg_fs_pred: AUC_PR = %.3f\" % auc(recall, precision))\n",
        "print(\"lg_fs_pred: AUC_ROC = %.3f\" % auc(fpr, tpr))\n",
        "\n",
        "\n",
        "fpr, tpr, roc_thresholds = roc_curve(y_test, gb_fs_pred)\n",
        "precision, recall, pr_thresholds = precision_recall_curve(y_test, gb_fs_pred)\n",
        "ax1.plot(fpr, tpr, label=\"gb_fs_pred\", color='purple')\n",
        "ax2.plot(recall, precision, label=\"gb_fs_pred\", color='purple')\n",
        "print(\"gb_fs_pred: AUC_PR = %.3f\" % auc(recall, precision))\n",
        "print(\"gb_fs_pred: AUC_ROC = %.3f\" % auc(fpr, tpr))\n",
        "ax1.legend(loc=\"lower right\")\n",
        "ax2.legend(loc=\"lower right\");"
      ]
    },
    {
      "cell_type": "code",
      "execution_count": 90,
      "metadata": {
        "id": "fAvC0Y1YHJN_"
      },
      "outputs": [],
      "source": [
        "import pickle\n",
        "pickle.dump(gb_fs_pipe_final, open('/content/drive/MyDrive/model.sav', 'wb'))"
      ]
    }
  ],
  "metadata": {
    "colab": {
      "collapsed_sections": [
        "j4Bi-MLUHJNj"
      ],
      "machine_shape": "hm",
      "name": "kurs_megafon_2_part",
      "provenance": []
    },
    "kernelspec": {
      "display_name": "Python 3 (ipykernel)",
      "language": "python",
      "name": "python3"
    },
    "language_info": {
      "codemirror_mode": {
        "name": "ipython",
        "version": 3
      },
      "file_extension": ".py",
      "mimetype": "text/x-python",
      "name": "python",
      "nbconvert_exporter": "python",
      "pygments_lexer": "ipython3",
      "version": "3.9.7"
    }
  },
  "nbformat": 4,
  "nbformat_minor": 0
}